{
 "cells": [
  {
   "cell_type": "code",
   "execution_count": 473,
   "metadata": {
    "collapsed": true
   },
   "outputs": [],
   "source": [
    "import matplotlib.pyplot as plt\n",
    "import networkx as nx\n",
    "import math\n",
    "import numpy as np\n",
    "import random\n",
    "import operator as op\n",
    "from functools import reduce\n",
    "from tqdm import tqdm\n",
    "import copy\n",
    "import pickle\n",
    "from scipy import io\n",
    "import networkx as nx"
   ]
  },
  {
   "cell_type": "code",
   "execution_count": 474,
   "outputs": [],
   "source": [
    "A_T= np.zeros((20, 20), dtype=float)\n",
    "A_T[1::2, ::2] = 1\n",
    "A_T[::2, 1::2] = 1"
   ],
   "metadata": {
    "collapsed": false,
    "pycharm": {
     "name": "#%%\n"
    }
   }
  },
  {
   "cell_type": "code",
   "execution_count": 475,
   "outputs": [],
   "source": [
    "#The purpose of this partitioning appears to be part of the Metropolis-Hastings algorithm.\n",
    "# The binomial coefficien: C(n, r) = n! / (r! * (n - r)!)\n",
    "def ncr(n, r):  #n choose r\n",
    "    r = min(r, n-r)\n",
    "    numer = reduce(op.mul, range(n, n-r, -1), 1)\n",
    "    denom = reduce(op.mul, range(1, r+1), 1)\n",
    "    return numer // denom  # or / in Python 2\n",
    "\n",
    "def index_2d(myList, v): #return the exact index\n",
    "    for i, x in enumerate(myList):\n",
    "        if v in x:\n",
    "            return (i, x.index(v))\n",
    "\n",
    "def l_ij(alpha,beta, A_T,part):       #number of links between group i and j\n",
    "    link_num = 0\n",
    "    for a in part[alpha]:\n",
    "        for b in part[beta]:\n",
    "            if A_T[a, b] == 1:\n",
    "                link_num += 1\n",
    "    return(link_num)\n",
    "\n",
    "\n",
    "def r_ij(alpha,beta, part):       #maximum possible number of links between group i and j\n",
    "    return(len(part[alpha]) * len(part[beta]))"
   ],
   "metadata": {
    "collapsed": false,
    "pycharm": {
     "name": "#%%\n"
    }
   }
  },
  {
   "cell_type": "code",
   "execution_count": 476,
   "outputs": [],
   "source": [
    "def R(i, j, A_T, all_part):   #all_part is a list containing all different partitions\n",
    "    big_sum= 0\n",
    "    Z=0\n",
    "    first_loop_cond = True\n",
    "    for part in all_part:\n",
    "\n",
    "        if first_loop_cond:\n",
    "            gooz_list = [[x,y] for x in range(len(part)) for y in range(len(part)) if len(part[x])<len(part[y])]\n",
    "            pair_list=[]\n",
    "            for x in gooz_list:\n",
    "                if x not in pair_list: pair_list.append(x)\n",
    "\n",
    "            # H(p) formula\n",
    "            H_P = 0\n",
    "            for pair in pair_list:\n",
    "                alpha, beta = pair\n",
    "                l = l_ij(alpha, beta, A_T, part)\n",
    "                r = r_ij(alpha, beta, part)\n",
    "                h_p = math.log(r+1) + math.log(ncr(r, l))\n",
    "                H_P += h_p\n",
    "\n",
    "            Z += np.exp(-H_P)\n",
    "            first_loop_cond = False\n",
    "        # print('Pair:',pair,',l:',l,',r:',r,',h_p:',h_p,',H_P:',H_P)\n",
    "\n",
    "\n",
    "        # define : (l(sigma_i,sigma_j) + 1) / (r(sigma_i,sigma_j) + 2) inside R formula\n",
    "        sigma_i = index_2d(part, i)[0]\n",
    "        sigma_j = index_2d(part, j)[0]\n",
    "        l = l_ij(sigma_i , sigma_j , A_T, part)\n",
    "        r = r_ij(sigma_i , sigma_j , part)\n",
    "        parantez = ((l + 1)/(r+2))\n",
    "\n",
    "        # print(Z)\n",
    "        big_sum += parantez* np.exp(-H_P)\n",
    "        R_ij = big_sum/Z\n",
    "        # print('reliability of i={} and j={}:'.format(i, j), round(R_ij,4))\n",
    "    return(round(R_ij,5))\n",
    "\n",
    "\n",
    "\n"
   ],
   "metadata": {
    "collapsed": false,
    "pycharm": {
     "name": "#%%\n"
    }
   }
  },
  {
   "cell_type": "code",
   "execution_count": 477,
   "outputs": [],
   "source": [
    "# I also define H(P) seperatly because I need it in metropolis function\n",
    "def H(P,AT_tmp):\n",
    "    pair_list=[]\n",
    "    H_P=0\n",
    "    for i in range(len(P)):\n",
    "        for j in range(len(P)):\n",
    "            if i<=j:\n",
    "                pair_list.append([i,j])\n",
    "    for pair in pair_list:\n",
    "            alpha, beta = pair\n",
    "            l = l_ij(alpha, beta, AT_tmp, P)\n",
    "            r = r_ij(alpha, beta, P)\n",
    "            h_p = math.log(r+1) + math.log(ncr(r, l))\n",
    "            H_P += h_p\n",
    "    return(H_P)"
   ],
   "metadata": {
    "collapsed": false,
    "pycharm": {
     "name": "#%%\n"
    }
   }
  },
  {
   "cell_type": "code",
   "execution_count": 478,
   "outputs": [],
   "source": [
    "def Metropolis(T,ens,AT_tmp):#number of iterations (ensemble size)\n",
    "    e=[] #store result of simulation\n",
    "    for i in tqdm(range(ens)):\n",
    "        partitions =  [[i] for i in range(20)].copy()\n",
    "        c=0\n",
    "        for kk in range(T):\n",
    "            partitions = [ele for ele in partitions if ele != []]\n",
    "            part_before=copy.deepcopy(partitions)\n",
    "\n",
    "            H0=H(partitions,AT_tmp) #compute hamiltonian\n",
    "            rpp=random.randint(0,len(partitions)-1)\n",
    "            m,n=index_2d(partitions,rpp)\n",
    "            a=partitions[m][n] #select random partition from rpp\n",
    "            del partitions[m][n] #delete an element at a specific position in a 2D list\n",
    "            rp=random.randint(0,len(partitions)-1)\n",
    "            partitions[rp].append(a) #moves (a) to another random partition rp\n",
    "            Hf=H(partitions,AT_tmp)\n",
    "            deltaH=Hf-H0 #calculates the change in energy due to move\n",
    "            if deltaH>0:\n",
    "                if random.random() > np.exp(-deltaH):\n",
    "                    partitions=part_before.copy()\n",
    "        ppp = [ele for ele in partitions if ele != []]\n",
    "        e.append(ppp)\n",
    "        #     partitions = [ele for ele in partitions if ele != []]\n",
    "        #\n",
    "        # ppp=copy.deepcopy(partitions)\n",
    "        # e.append(ppp) # The final partitioning is appended to the e list\n",
    "        print(H(partitions,AT_tmp))\n",
    "        print(kk)\n",
    "    return(e)"
   ],
   "metadata": {
    "collapsed": false,
    "pycharm": {
     "name": "#%%\n"
    }
   }
  },
  {
   "cell_type": "code",
   "execution_count": 479,
   "outputs": [
    {
     "name": "stderr",
     "output_type": "stream",
     "text": [
      " 45%|████▌     | 9/20 [00:00<00:00, 37.08it/s]"
     ]
    },
    {
     "name": "stdout",
     "output_type": "stream",
     "text": [
      "68.2671837489005\n",
      "99\n",
      "68.46696143022612\n",
      "99\n",
      "76.4601982915411\n",
      "99\n",
      "61.593763992240795\n",
      "99\n",
      "75.13365134489875\n",
      "99\n",
      "61.59376399224081\n",
      "99\n",
      "71.15651353704396\n",
      "99\n",
      "64.3017717239234\n",
      "99\n",
      "81.75146052603972\n",
      "99\n",
      "57.58501565377674\n",
      "99\n",
      "62.79112007993503\n",
      "99\n"
     ]
    },
    {
     "name": "stderr",
     "output_type": "stream",
     "text": [
      "100%|██████████| 20/20 [00:00<00:00, 39.27it/s]"
     ]
    },
    {
     "name": "stdout",
     "output_type": "stream",
     "text": [
      "69.5566663142511\n",
      "99\n",
      "63.997006542945435\n",
      "99\n",
      "77.8503377098643\n",
      "99\n",
      "69.5566663142511\n",
      "99\n",
      "65.84040626254826\n",
      "99\n",
      "69.55666631425113\n",
      "99\n",
      "68.74376979853058\n",
      "99\n",
      "79.55658749896145\n",
      "99\n",
      "72.47173346521056\n",
      "99\n"
     ]
    },
    {
     "name": "stderr",
     "output_type": "stream",
     "text": [
      "\n"
     ]
    }
   ],
   "source": [
    "es = Metropolis(100, 20,A_T)"
   ],
   "metadata": {
    "collapsed": false,
    "pycharm": {
     "name": "#%%\n"
    }
   }
  },
  {
   "cell_type": "code",
   "execution_count": 480,
   "outputs": [],
   "source": [
    "def link_remover(A_T, ratio): #adjacency matrix :A_T #the ratio of links to be removed:ratio\n",
    "    one_index = np.where(A_T==1)\n",
    "    one_list = [[one_index[0][i], one_index[1][i]] for i in range(len(one_index[0]))]\n",
    "    r = random.sample(one_list, int(ratio * np.sum(A_T)/2)) #randomly selects a subset of the pairs\n",
    "    return(r)\n",
    "\n",
    "#sorting\n",
    "def Sort(sub_li):\n",
    "    sub_li.sort(key = lambda x: x[1])\n",
    "    return sub_li.reverse()\n",
    "\n",
    "#extract the first element\n",
    "def Extract(lst):\n",
    "    return list(list(zip(*lst))[0])\n",
    "\n",
    "def acc(k):\n",
    "    zeros=k.count(0)\n",
    "    ones=k.count(1)\n",
    "    ef=0\n",
    "    for i in range(len(k)):\n",
    "        if k[i]==1:\n",
    "            ef+=k[i:].count(0)/zeros\n",
    "    return ef/ones"
   ],
   "metadata": {
    "collapsed": false,
    "pycharm": {
     "name": "#%%\n"
    }
   }
  },
  {
   "cell_type": "markdown",
   "source": [
    "We are computing the reliability of links that were originally set to zero in the adjacency matrix A_T. The code we've provided iterates through the zero entries in the adjacency matrix and calculates the reliability using the R function."
   ],
   "metadata": {
    "collapsed": false,
    "pycharm": {
     "name": "#%% md\n"
    }
   }
  },
  {
   "cell_type": "code",
   "execution_count": 481,
   "outputs": [
    {
     "name": "stderr",
     "output_type": "stream",
     "text": [
      "100%|██████████| 200/200 [00:00<00:00, 6269.00it/s]\n"
     ]
    }
   ],
   "source": [
    "zero_real = []\n",
    "zero_index = np.where(A_T==0)\n",
    "\n",
    "for i in tqdm(range(len(zero_index[0]))):\n",
    "    #computed reliability for each link is appended to the zero_real list\n",
    "    zero_real.append(R(zero_index[0][i], zero_index[1][i], A_T, es))"
   ],
   "metadata": {
    "collapsed": false,
    "pycharm": {
     "name": "#%%\n"
    }
   }
  },
  {
   "cell_type": "code",
   "execution_count": 482,
   "outputs": [
    {
     "name": "stdout",
     "output_type": "stream",
     "text": [
      "the mean value 13.96\n",
      "the mean value 13.6\n",
      "the mean value 11.89\n",
      "the mean value 9.79\n",
      "the mean value 8.05\n",
      "the mean value 6.35\n",
      "the mean value 5.23\n",
      "the mean value 4.24\n",
      "the mean value 3.04\n",
      "the mean value 2.87\n"
     ]
    }
   ],
   "source": [
    "rat=np.linspace(0.1,1,10) #removal ratio\n",
    "accs=[]\n",
    "for r in rat:\n",
    "    selected_links = link_remover(A_T, r) #select links to remove from the adjacency matrix (based on ratio)\n",
    "    #Set the selected links to 0 in the adjacency matrix to simulate link removal.\n",
    "    #print(selected_links)\n",
    "    for link in selected_links: A_T[link[0], link[1]] = 0 #index 0 and index 1\n",
    "    #Calculate the reliability of the removed links using the R function and store these values in the zero_fake list.\n",
    "    zero_fake=[]\n",
    "    for i in selected_links:\n",
    "        zero_fake.append(R(i[0], i[1], A_T, es))\n",
    "    #Print the mean value of the reliabilities of the removed links\n",
    "    print('the mean value', round(np.mean(zero_fake),2))\n",
    "    #aggregate all the reliabilities (both real and removed)\n",
    "    all_real = []\n",
    "    for i in zero_fake: all_real.append([1, i])\n",
    "    for i in zero_real: all_real.append([0, i])\n",
    "    #print(all_real)\n",
    "    Sort(all_real)\n",
    "    #print(all_real)\n",
    "    #print('..............................')\n",
    "    ext=Extract(all_real)\n",
    "    #print(ext)\n",
    "    #calculate the accuracy of the network based on the sorted reliabilities\n",
    "    accs.append(acc(ext))"
   ],
   "metadata": {
    "collapsed": false,
    "pycharm": {
     "name": "#%%\n"
    }
   }
  },
  {
   "cell_type": "markdown",
   "source": [
    "#### CONCLUSION:\n",
    "This information helps us to understand how network reliability changes as we remove links.\n",
    "Based on these results, it appears that as we remove more links, the mean reliability of the removed links decreases. This is an expected outcome, as removing links reduces the network's overall connectivity and makes it less reliable in terms of link connectivity. The decreasing trend in mean reliability suggests that removing more links has a more significant impact on network reliability."
   ],
   "metadata": {
    "collapsed": false,
    "pycharm": {
     "name": "#%% md\n"
    }
   }
  },
  {
   "cell_type": "code",
   "execution_count": 483,
   "outputs": [
    {
     "data": {
      "text/plain": "Text(0.5, 1.0, 'Missing intractions')"
     },
     "execution_count": 483,
     "metadata": {},
     "output_type": "execute_result"
    },
    {
     "data": {
      "text/plain": "<Figure size 600x300 with 1 Axes>",
      "image/png": "[encoded data removed]"
     },
     "metadata": {},
     "output_type": "display_data"
    }
   ],
   "source": [
    "plt.figure(figsize=(6,3))\n",
    "plt.plot(rat,accs,'-o',color='black')\n",
    "plt.axhline(y = 0.5, color = 'k', linestyle = '--')\n",
    "plt.ylabel('Accuracy')\n",
    "plt.xlabel('Fraction of links removed')\n",
    "plt.title('Missing intractions')\n"
   ],
   "metadata": {
    "collapsed": false,
    "pycharm": {
     "name": "#%%\n"
    }
   }
  },
  {
   "cell_type": "markdown",
   "source": [
    "### Spurious Intercations (Adding Links)"
   ],
   "metadata": {
    "collapsed": false,
    "pycharm": {
     "name": "#%% md\n"
    }
   }
  },
  {
   "cell_type": "code",
   "execution_count": 484,
   "outputs": [],
   "source": [
    "#add links to the adjacency matrix A_T based on a specified ratio\n",
    "def link_adder(A_T, ratio):\n",
    "    zero_index = np.where(A_T==0)\n",
    "    zero_list = [[zero_index[0][i], zero_index[1][i]] for i in range(len(zero_index[0]))]\n",
    "    r = random.sample(zero_list, int(ratio * np.sum(A_T)/2))\n",
    "    return(r)\n",
    "\n",
    "#sorting\n",
    "def Sort(sub_li):\n",
    "    sub_li.sort(key = lambda x: x[1])\n",
    "    return sub_li.reverse()\n",
    "\n",
    "#extract the first element\n",
    "#This function is intended to extract the first elements from a list of pairs\n",
    "def Extract(lst):\n",
    "    return list(list(zip(*lst))[0])\n",
    "\n",
    "# def acc(k):\n",
    "#     zeros=k.count(0)\n",
    "#     ones=k.count(1)\n",
    "#     ef=0\n",
    "#     for i in range(len(k)):\n",
    "#         if k[i]==1:\n",
    "#             ef+=k[i:].count(0)/zeros\n",
    "#     return ef/ones"
   ],
   "metadata": {
    "collapsed": false,
    "pycharm": {
     "name": "#%%\n"
    }
   }
  },
  {
   "cell_type": "code",
   "execution_count": 485,
   "outputs": [],
   "source": [
    "def acc(k):\n",
    "    zeros = k.count(0)\n",
    "    ones = k.count(1)\n",
    "\n",
    "    if zeros == 0:\n",
    "        return 0  # Handle the case when there are no zeros (or return another appropriate value)\n",
    "\n",
    "    ef = 0\n",
    "    for i in range(len(k)):\n",
    "        if k[i] == 1:\n",
    "            ef += k[i:].count(0) / zeros\n",
    "\n",
    "    return ef / ones"
   ],
   "metadata": {
    "collapsed": false,
    "pycharm": {
     "name": "#%%\n"
    }
   }
  },
  {
   "cell_type": "code",
   "execution_count": 486,
   "outputs": [
    {
     "name": "stderr",
     "output_type": "stream",
     "text": [
      "100%|██████████| 7/7 [00:00<00:00, 7406.69it/s]\n"
     ]
    }
   ],
   "source": [
    "one_real = []\n",
    "one_index = np.where(A_T==1)#find the indices of one entries in the adjacency matrix\n",
    "\n",
    "for i in tqdm(range(len(one_index[0]))):\n",
    "    #computed reliability for each link is appended to the one_real list\n",
    "    one_real.append(R(one_index[0][i], one_index[1][i], A_T, es))"
   ],
   "metadata": {
    "collapsed": false,
    "pycharm": {
     "name": "#%%\n"
    }
   }
  },
  {
   "cell_type": "code",
   "execution_count": 489,
   "outputs": [
    {
     "ename": "NameError",
     "evalue": "name 'A_T_org' is not defined",
     "output_type": "error",
     "traceback": [
      "\u001B[0;31m---------------------------------------------------------------------------\u001B[0m",
      "\u001B[0;31mNameError\u001B[0m                                 Traceback (most recent call last)",
      "Cell \u001B[0;32mIn[489], line 4\u001B[0m\n\u001B[1;32m      2\u001B[0m accs\u001B[38;5;241m=\u001B[39m[]\n\u001B[1;32m      3\u001B[0m \u001B[38;5;28;01mfor\u001B[39;00m r \u001B[38;5;129;01min\u001B[39;00m rat:\n\u001B[0;32m----> 4\u001B[0m     A_T \u001B[38;5;241m=\u001B[39m \u001B[43mA_T_org\u001B[49m\n\u001B[1;32m      5\u001B[0m     selected_links \u001B[38;5;241m=\u001B[39m link_adder(A_T, r)\n\u001B[1;32m      6\u001B[0m     \u001B[38;5;28;01mfor\u001B[39;00m link \u001B[38;5;129;01min\u001B[39;00m selected_links: A_T[link[\u001B[38;5;241m0\u001B[39m], link[\u001B[38;5;241m1\u001B[39m]] \u001B[38;5;241m=\u001B[39m \u001B[38;5;241m1\u001B[39m\n",
      "\u001B[0;31mNameError\u001B[0m: name 'A_T_org' is not defined"
     ]
    }
   ],
   "source": [
    "rat=np.linspace(0.5,1,10)\n",
    "accs=[]\n",
    "for r in rat:\n",
    "    selected_links = link_adder(A_T, r)\n",
    "    for link in selected_links: A_T[link[0], link[1]] = 1\n",
    "    one_fake=[]\n",
    "    for i in selected_links:\n",
    "        one_fake.append(R(i[0], i[1], A_T, es))\n",
    "    print('the mean value', round(np.mean(one_fake),2))\n",
    "    all_real = []\n",
    "    for i in one_fake: all_real.append([0, i])\n",
    "    for i in one_real: all_real.append([1, i])\n",
    "    Sort(all_real)\n",
    "    ext=Extract(all_real)\n",
    "    accs.append(acc(ext))"
   ],
   "metadata": {
    "collapsed": false,
    "pycharm": {
     "name": "#%%\n"
    }
   }
  },
  {
   "cell_type": "markdown",
   "source": [
    "##### conclusion:\n",
    "the mean values of the reliabilities for added links as we systematically increased the link addition ratio. This information helps us to understand how network reliability changes as we add more links.it appears that as we add more links to the network, the mean reliability of the added links increases. This suggests that adding more links enhances network reliability. The increasing trend in mean reliability indicates that adding more links has a positive impact on the network's reliability."
   ],
   "metadata": {
    "collapsed": false,
    "pycharm": {
     "name": "#%% md\n"
    }
   }
  },
  {
   "cell_type": "code",
   "execution_count": 488,
   "outputs": [
    {
     "data": {
      "text/plain": "Text(0.5, 1.0, 'ُSpurious intractions')"
     },
     "execution_count": 488,
     "metadata": {},
     "output_type": "execute_result"
    },
    {
     "data": {
      "text/plain": "<Figure size 600x300 with 1 Axes>",
      "image/png": "[encoded data removed]"
     },
     "metadata": {},
     "output_type": "display_data"
    }
   ],
   "source": [
    "plt.figure(figsize=(6,3))\n",
    "plt.plot(rat,accs,'-o',color='black')\n",
    "plt.axhline(y = 0.5, color = 'k', linestyle = '--')\n",
    "plt.ylabel('Accuracy')\n",
    "plt.xlabel('Fraction of links Added')\n",
    "plt.title('ُSpurious intractions')"
   ],
   "metadata": {
    "collapsed": false,
    "pycharm": {
     "name": "#%%\n"
    }
   }
  },
  {
   "cell_type": "code",
   "execution_count": 488,
   "outputs": [],
   "source": [],
   "metadata": {
    "collapsed": false,
    "pycharm": {
     "name": "#%%\n"
    }
   }
  }
 ],
 "metadata": {
  "kernelspec": {
   "display_name": "Python 3",
   "language": "python",
   "name": "python3"
  },
  "language_info": {
   "codemirror_mode": {
    "name": "ipython",
    "version": 2
   },
   "file_extension": ".py",
   "mimetype": "text/x-python",
   "name": "python",
   "nbconvert_exporter": "python",
   "pygments_lexer": "ipython2",
   "version": "2.7.6"
  }
 },
 "nbformat": 4,
 "nbformat_minor": 0
}