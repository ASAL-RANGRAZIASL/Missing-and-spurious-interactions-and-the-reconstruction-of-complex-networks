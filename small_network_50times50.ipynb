{
 "cells": [
  {
   "cell_type": "code",
   "execution_count": 462,
   "metadata": {
    "collapsed": true
   },
   "outputs": [],
   "source": [
    "import matplotlib.pyplot as plt\n",
    "import networkx as nx\n",
    "import math\n",
    "import numpy as np\n",
    "import random\n",
    "import operator as op\n",
    "from functools import reduce\n",
    "from tqdm import tqdm\n",
    "import copy\n",
    "import pickle\n",
    "from scipy import io\n",
    "import networkx as nx"
   ]
  },
  {
   "cell_type": "code",
   "execution_count": 463,
   "outputs": [],
   "source": [
    "A_T= np.zeros((50, 50), dtype=float)\n",
    "A_T[1::2, ::2] = 1\n",
    "A_T[::2, 1::2] = 1\n",
    "A_T_ORG=A_T\n",
    "np.save('AT',A_T)"
   ],
   "metadata": {
    "collapsed": false,
    "pycharm": {
     "name": "#%%\n"
    }
   }
  },
  {
   "cell_type": "code",
   "execution_count": 464,
   "outputs": [],
   "source": [
    "#The purpose of this partitioning appears to be part of the Metropolis-Hastings algorithm.\n",
    "# The binomial coefficien: C(n, r) = n! / (r! * (n - r)!)\n",
    "def ncr(n, r):  #n choose r\n",
    "    r = min(r, n-r)\n",
    "    numer = reduce(op.mul, range(n, n-r, -1), 1)\n",
    "    denom = reduce(op.mul, range(1, r+1), 1)\n",
    "    return numer // denom  # or / in Python 2\n",
    "\n",
    "def index_2d(myList, v): #return the exact index\n",
    "    for i, x in enumerate(myList):\n",
    "        if v in x:\n",
    "            return (i, x.index(v))\n",
    "\n",
    "def l_ij(alpha,beta, A_T,part):       #number of links between group i and j\n",
    "    link_num = 0\n",
    "    for a in part[alpha]:\n",
    "        for b in part[beta]:\n",
    "            if A_T[a, b] == 1:\n",
    "                link_num += 1\n",
    "    return(link_num)\n",
    "\n",
    "\n",
    "def r_ij(alpha,beta, part):       #maximum possible number of links between group i and j\n",
    "    return(len(part[alpha]) * len(part[beta]))"
   ],
   "metadata": {
    "collapsed": false,
    "pycharm": {
     "name": "#%%\n"
    }
   }
  },
  {
   "cell_type": "code",
   "execution_count": 465,
   "outputs": [],
   "source": [
    "def R(i, j, A_T, all_part):   #all_part is a list containing all different partitions\n",
    "    big_sum= 0\n",
    "    Z=0\n",
    "    first_loop_cond = True\n",
    "    for part in all_part:\n",
    "\n",
    "        if first_loop_cond:\n",
    "            gooz_list = [[x,y] for x in range(len(part)) for y in range(len(part)) if len(part[x])<len(part[y])]\n",
    "            pair_list=[]\n",
    "            for x in gooz_list:\n",
    "                if x not in pair_list: pair_list.append(x)\n",
    "\n",
    "            # H(p) formula\n",
    "            H_P = 0\n",
    "            for pair in pair_list:\n",
    "                alpha, beta = pair\n",
    "                l = l_ij(alpha, beta, A_T, part)\n",
    "                r = r_ij(alpha, beta, part)\n",
    "                h_p = math.log(r+1) + math.log(ncr(r, l))\n",
    "                H_P += h_p\n",
    "\n",
    "            Z += np.exp(-H_P)\n",
    "            first_loop_cond = False\n",
    "        # print('Pair:',pair,',l:',l,',r:',r,',h_p:',h_p,',H_P:',H_P)\n",
    "\n",
    "\n",
    "        # define : (l(sigma_i,sigma_j) + 1) / (r(sigma_i,sigma_j) + 2) inside R formula\n",
    "        sigma_i = index_2d(part, i)[0]\n",
    "        sigma_j = index_2d(part, j)[0]\n",
    "        l = l_ij(sigma_i , sigma_j , A_T, part)\n",
    "        r = r_ij(sigma_i , sigma_j , part)\n",
    "        parantez = ((l + 1)/(r+2))\n",
    "\n",
    "        # print(Z)\n",
    "        big_sum += parantez* np.exp(-H_P)\n",
    "        R_ij = big_sum/Z\n",
    "        # print('reliability of i={} and j={}:'.format(i, j), round(R_ij,4))\n",
    "    return(round(R_ij,5))\n",
    "\n",
    "\n",
    "\n"
   ],
   "metadata": {
    "collapsed": false,
    "pycharm": {
     "name": "#%%\n"
    }
   }
  },
  {
   "cell_type": "code",
   "execution_count": 466,
   "outputs": [],
   "source": [
    "# I also define H(P) seperatly because I need it in metropolis function\n",
    "def H(P,AT_tmp):\n",
    "    pair_list=[]\n",
    "    H_P=0\n",
    "    for i in range(len(P)):\n",
    "        for j in range(len(P)):\n",
    "            if i<=j:\n",
    "                pair_list.append([i,j])\n",
    "    for pair in pair_list:\n",
    "            alpha, beta = pair\n",
    "            l = l_ij(alpha, beta, AT_tmp, P)\n",
    "            r = r_ij(alpha, beta, P)\n",
    "            h_p = math.log(r+1) + math.log(ncr(r, l))\n",
    "            H_P += h_p\n",
    "    return(H_P)"
   ],
   "metadata": {
    "collapsed": false,
    "pycharm": {
     "name": "#%%\n"
    }
   }
  },
  {
   "cell_type": "code",
   "execution_count": 467,
   "outputs": [],
   "source": [
    "def Metropolis(T,ens,AT_tmp):#number of iterations (ensemble size)\n",
    "    e=[] #store result of simulation\n",
    "    for i in tqdm(range(ens)):\n",
    "        partitions =  [[i] for i in range(AT_tmp.shape[0])].copy()\n",
    "        c=0\n",
    "        for kk in range(T):\n",
    "            partitions = [ele for ele in partitions if ele != []]\n",
    "            part_before=copy.deepcopy(partitions)\n",
    "\n",
    "            H0=H(partitions,AT_tmp) #compute hamiltonian\n",
    "            rpp=random.randint(0,len(partitions)-1)\n",
    "            m,n=index_2d(partitions,rpp)\n",
    "            a=partitions[m][n] #select random partition from rpp\n",
    "            del partitions[m][n] #delete an element at a specific position in a 2D list\n",
    "            rp=random.randint(0,len(partitions)-1)\n",
    "            partitions[rp].append(a) #moves (a) to another random partition rp\n",
    "            Hf=H(partitions,AT_tmp)\n",
    "            deltaH=Hf-H0 #calculates the change in energy due to move\n",
    "            if deltaH>0:\n",
    "                if random.random() > np.exp(-deltaH):\n",
    "                    partitions=part_before.copy()\n",
    "        ppp = [ele for ele in partitions if ele != []]\n",
    "        e.append(ppp)\n",
    "        #     partitions = [ele for ele in partitions if ele != []]\n",
    "        #\n",
    "        # ppp=copy.deepcopy(partitions)\n",
    "        # e.append(ppp) # The final partitioning is appended to the e list\n",
    "        print(H(partitions,AT_tmp))\n",
    "        print(kk)\n",
    "    return(e)"
   ],
   "metadata": {
    "collapsed": false,
    "pycharm": {
     "name": "#%%\n"
    }
   }
  },
  {
   "cell_type": "code",
   "execution_count": 468,
   "outputs": [
    {
     "name": "stderr",
     "output_type": "stream",
     "text": [
      " 10%|█         | 2/20 [00:00<00:03,  5.76it/s]"
     ]
    },
    {
     "name": "stdout",
     "output_type": "stream",
     "text": [
      "487.32679164275913\n",
      "99\n",
      "467.9938038900498\n",
      "99\n"
     ]
    },
    {
     "name": "stderr",
     "output_type": "stream",
     "text": [
      " 20%|██        | 4/20 [00:00<00:02,  5.47it/s]"
     ]
    },
    {
     "name": "stdout",
     "output_type": "stream",
     "text": [
      "558.3867397216452\n",
      "99\n",
      "529.3439382255905\n",
      "99\n"
     ]
    },
    {
     "name": "stderr",
     "output_type": "stream",
     "text": [
      " 30%|███       | 6/20 [00:01<00:02,  5.27it/s]"
     ]
    },
    {
     "name": "stdout",
     "output_type": "stream",
     "text": [
      "486.0401974081867\n",
      "99\n",
      "465.9098543159633\n",
      "99\n"
     ]
    },
    {
     "name": "stderr",
     "output_type": "stream",
     "text": [
      " 35%|███▌      | 7/20 [00:01<00:02,  5.40it/s]"
     ]
    },
    {
     "name": "stdout",
     "output_type": "stream",
     "text": [
      "531.780938522026\n",
      "99\n"
     ]
    },
    {
     "name": "stderr",
     "output_type": "stream",
     "text": [
      " 45%|████▌     | 9/20 [00:01<00:02,  5.16it/s]"
     ]
    },
    {
     "name": "stdout",
     "output_type": "stream",
     "text": [
      "544.6982022957426\n",
      "99\n",
      "540.2334355839595\n",
      "99\n"
     ]
    },
    {
     "name": "stderr",
     "output_type": "stream",
     "text": [
      " 55%|█████▌    | 11/20 [00:02<00:01,  5.25it/s]"
     ]
    },
    {
     "name": "stdout",
     "output_type": "stream",
     "text": [
      "506.29961550947024\n",
      "99\n",
      "541.6608237921636\n",
      "99\n"
     ]
    },
    {
     "name": "stderr",
     "output_type": "stream",
     "text": [
      " 65%|██████▌   | 13/20 [00:02<00:01,  5.47it/s]"
     ]
    },
    {
     "name": "stdout",
     "output_type": "stream",
     "text": [
      "479.3166026235022\n",
      "99\n",
      "487.326791642759\n",
      "99\n"
     ]
    },
    {
     "name": "stderr",
     "output_type": "stream",
     "text": [
      " 75%|███████▌  | 15/20 [00:02<00:00,  5.47it/s]"
     ]
    },
    {
     "name": "stdout",
     "output_type": "stream",
     "text": [
      "508.4314655778601\n",
      "99\n",
      "507.6248017453245\n",
      "99\n"
     ]
    },
    {
     "name": "stderr",
     "output_type": "stream",
     "text": [
      " 85%|████████▌ | 17/20 [00:03<00:00,  5.50it/s]"
     ]
    },
    {
     "name": "stdout",
     "output_type": "stream",
     "text": [
      "445.0710556447687\n",
      "99\n",
      "562.9583879494799\n",
      "99\n"
     ]
    },
    {
     "name": "stderr",
     "output_type": "stream",
     "text": [
      " 95%|█████████▌| 19/20 [00:03<00:00,  5.47it/s]"
     ]
    },
    {
     "name": "stdout",
     "output_type": "stream",
     "text": [
      "557.040897275919\n",
      "99\n",
      "466.0125848349199\n",
      "99\n"
     ]
    },
    {
     "name": "stderr",
     "output_type": "stream",
     "text": [
      "100%|██████████| 20/20 [00:03<00:00,  5.40it/s]"
     ]
    },
    {
     "name": "stdout",
     "output_type": "stream",
     "text": [
      "466.0335391069625\n",
      "99\n"
     ]
    },
    {
     "name": "stderr",
     "output_type": "stream",
     "text": [
      "\n"
     ]
    }
   ],
   "source": [
    "es = Metropolis(100, 20,A_T)"
   ],
   "metadata": {
    "collapsed": false,
    "pycharm": {
     "name": "#%%\n"
    }
   }
  },
  {
   "cell_type": "code",
   "execution_count": 469,
   "outputs": [],
   "source": [
    "def link_remover(A_T, ratio): #adjacency matrix :A_T #the ratio of links to be removed:ratio\n",
    "    one_index = np.where(A_T==1)\n",
    "    one_list = [[one_index[0][i], one_index[1][i]] for i in range(len(one_index[0]))]\n",
    "    r = random.sample(one_list, int(ratio * np.sum(A_T)/2)) #randomly selects a subset of the pairs\n",
    "    return(r)\n",
    "\n",
    "#sorting\n",
    "def Sort(sub_li):\n",
    "    sub_li.sort(key = lambda x: x[1])\n",
    "    return sub_li.reverse()\n",
    "\n",
    "#extract the first element\n",
    "def Extract(lst):\n",
    "    return list(list(zip(*lst))[0])\n",
    "\n",
    "def acc(k):\n",
    "    zeros=k.count(0)\n",
    "    ones=k.count(1)\n",
    "    ef=0\n",
    "    for i in range(len(k)):\n",
    "        if k[i]==1:\n",
    "            ef+=k[i:].count(0)/zeros\n",
    "    return ef/ones"
   ],
   "metadata": {
    "collapsed": false,
    "pycharm": {
     "name": "#%%\n"
    }
   }
  },
  {
   "cell_type": "markdown",
   "source": [
    "We are computing the reliability of links that were originally set to zero in the adjacency matrix A_T. The code we've provided iterates through the zero entries in the adjacency matrix and calculates the reliability using the R function."
   ],
   "metadata": {
    "collapsed": false,
    "pycharm": {
     "name": "#%% md\n"
    }
   }
  },
  {
   "cell_type": "code",
   "execution_count": 470,
   "outputs": [
    {
     "name": "stderr",
     "output_type": "stream",
     "text": [
      "100%|██████████| 1250/1250 [00:01<00:00, 1114.32it/s]\n"
     ]
    }
   ],
   "source": [
    "zero_real = []\n",
    "zero_index = np.where(A_T==0)\n",
    "\n",
    "for i in tqdm(range(len(zero_index[0]))):\n",
    "    #computed reliability for each link is appended to the zero_real list\n",
    "    zero_real.append(R(zero_index[0][i], zero_index[1][i], A_T, es))"
   ],
   "metadata": {
    "collapsed": false,
    "pycharm": {
     "name": "#%%\n"
    }
   }
  },
  {
   "cell_type": "code",
   "execution_count": 471,
   "outputs": [
    {
     "name": "stdout",
     "output_type": "stream",
     "text": [
      "the mean value 12.94\n",
      "the mean value 11.94\n",
      "the mean value 10.73\n",
      "the mean value 9.17\n",
      "the mean value 7.72\n",
      "the mean value 6.42\n",
      "the mean value 5.27\n",
      "the mean value 4.52\n",
      "the mean value 3.92\n",
      "the mean value 3.67\n"
     ]
    }
   ],
   "source": [
    "rat=np.linspace(0.1,1,10) #removal ratio\n",
    "accs=[]\n",
    "for r in rat:\n",
    "    A_T_ORG=A_T\n",
    "    selected_links = link_remover(A_T, r) #select links to remove from the adjacency matrix (based on ratio)\n",
    "    #Set the selected links to 0 in the adjacency matrix to simulate link removal.\n",
    "    #print(selected_links)\n",
    "    for link in selected_links: A_T[link[0], link[1]] = 0 #index 0 and index 1\n",
    "    #Calculate the reliability of the removed links using the R function and store these values in the zero_fake list.\n",
    "    zero_fake=[]\n",
    "    for i in selected_links:\n",
    "        zero_fake.append(R(i[0], i[1], A_T, es))\n",
    "    #Print the mean value of the reliabilities of the removed links\n",
    "    print('the mean value', round(np.mean(zero_fake),2))\n",
    "    #aggregate all the reliabilities (both real and removed)\n",
    "    all_real = []\n",
    "    for i in zero_fake: all_real.append([1, i])\n",
    "    for i in zero_real: all_real.append([0, i])\n",
    "    #print(all_real)\n",
    "    Sort(all_real)\n",
    "    #print(all_real)\n",
    "    #print('..............................')\n",
    "    ext=Extract(all_real)\n",
    "    #print(ext)\n",
    "    #calculate the accuracy of the network based on the sorted reliabilities\n",
    "    accs.append(acc(ext))"
   ],
   "metadata": {
    "collapsed": false,
    "pycharm": {
     "name": "#%%\n"
    }
   }
  },
  {
   "cell_type": "markdown",
   "source": [
    "#### CONCLUSION:\n",
    "This information helps us to understand how network reliability changes as we remove links.\n",
    "Based on these results, it appears that as we remove more links, the mean reliability of the removed links decreases. This is an expected outcome, as removing links reduces the network's overall connectivity and makes it less reliable in terms of link connectivity. The decreasing trend in mean reliability suggests that removing more links has a more significant impact on network reliability."
   ],
   "metadata": {
    "collapsed": false,
    "pycharm": {
     "name": "#%% md\n"
    }
   }
  },
  {
   "cell_type": "code",
   "execution_count": 472,
   "outputs": [
    {
     "data": {
      "text/plain": "Text(0.5, 1.0, 'Missing intractions')"
     },
     "execution_count": 472,
     "metadata": {},
     "output_type": "execute_result"
    },
    {
     "data": {
      "text/plain": "<Figure size 600x300 with 1 Axes>",
      "image/png": "[encoded data removed]"
     },
     "metadata": {},
     "output_type": "display_data"
    }
   ],
   "source": [
    "plt.figure(figsize=(6,3))\n",
    "plt.plot(rat,accs,'-o',color='black')\n",
    "plt.axhline(y = 0.5, color = 'k', linestyle = '--')\n",
    "plt.ylabel('Accuracy')\n",
    "plt.xlabel('Fraction of links removed')\n",
    "plt.title('Missing intractions')\n"
   ],
   "metadata": {
    "collapsed": false,
    "pycharm": {
     "name": "#%%\n"
    }
   }
  },
  {
   "cell_type": "markdown",
   "source": [
    "### Spurious Intercations (Adding Links)"
   ],
   "metadata": {
    "collapsed": false,
    "pycharm": {
     "name": "#%% md\n"
    }
   }
  },
  {
   "cell_type": "code",
   "execution_count": 473,
   "outputs": [],
   "source": [
    "#add links to the adjacency matrix A_T based on a specified ratio\n",
    "def link_adder(A_T, ratio):\n",
    "    zero_index = np.where(A_T==0)\n",
    "    zero_list = [[zero_index[0][i], zero_index[1][i]] for i in range(len(zero_index[0]))]\n",
    "    r = random.sample(zero_list, int(ratio * np.sum(A_T)/2))\n",
    "    return(r)\n",
    "\n",
    "#sorting\n",
    "def Sort(sub_li):\n",
    "    sub_li.sort(key = lambda x: x[1])\n",
    "    return sub_li.reverse()\n",
    "\n",
    "#extract the first element\n",
    "#This function is intended to extract the first elements from a list of pairs\n",
    "def Extract(lst):\n",
    "    return list(list(zip(*lst))[0])\n"
   ],
   "metadata": {
    "collapsed": false,
    "pycharm": {
     "name": "#%%\n"
    }
   }
  },
  {
   "cell_type": "code",
   "execution_count": 474,
   "outputs": [],
   "source": [
    "def acc(k):\n",
    "    zeros = k.count(0)\n",
    "    ones = k.count(1)\n",
    "\n",
    "    if zeros == 0:\n",
    "        return 0  # Handle the case when there are no zeros (or return another appropriate value)\n",
    "\n",
    "    ef = 0\n",
    "    for i in range(len(k)):\n",
    "        if k[i] == 1:\n",
    "            ef += k[i:].count(0) / zeros\n",
    "\n",
    "    return ef / ones"
   ],
   "metadata": {
    "collapsed": false,
    "pycharm": {
     "name": "#%%\n"
    }
   }
  },
  {
   "cell_type": "code",
   "execution_count": 475,
   "outputs": [
    {
     "name": "stderr",
     "output_type": "stream",
     "text": [
      "100%|██████████| 42/42 [00:00<00:00, 1070.14it/s]\n"
     ]
    }
   ],
   "source": [
    "one_real = []\n",
    "one_index = np.where(A_T==1)#find the indices of one entries in the adjacency matrix\n",
    "\n",
    "for i in tqdm(range(len(one_index[0]))):\n",
    "    #computed reliability for each link is appended to the one_real list\n",
    "    one_real.append(R(one_index[0][i], one_index[1][i], A_T, es))"
   ],
   "metadata": {
    "collapsed": false,
    "pycharm": {
     "name": "#%%\n"
    }
   }
  },
  {
   "cell_type": "code",
   "execution_count": 476,
   "outputs": [
    {
     "name": "stdout",
     "output_type": "stream",
     "text": [
      "the mean value 7.18\n",
      "the mean value 7.47\n",
      "the mean value 7.99\n",
      "the mean value 8.59\n",
      "the mean value 9.17\n",
      "the mean value 9.66\n",
      "the mean value 10.1\n",
      "the mean value 10.57\n",
      "the mean value 11.06\n",
      "the mean value 11.62\n"
     ]
    }
   ],
   "source": [
    "rat=np.linspace(0.1,1,10)\n",
    "accs=[]\n",
    "for r in rat:\n",
    "    A_T = np.load('AT.npy')\n",
    "    selected_links = link_adder(A_T, r)\n",
    "    for link in selected_links: A_T[link[0], link[1]] = 1\n",
    "    np.save('A0',A_T)\n",
    "    one_fake=[]\n",
    "    for i in selected_links:\n",
    "        one_fake.append(R(i[0], i[1], A_T, es))\n",
    "    print('the mean value', round(np.mean(one_fake),2))\n",
    "    all_real = []\n",
    "    for i in one_fake: all_real.append([0, i])\n",
    "    for i in one_real: all_real.append([1, i])\n",
    "    Sort(all_real)\n",
    "    ext=Extract(all_real)\n",
    "    accs.append(acc(ext))"
   ],
   "metadata": {
    "collapsed": false,
    "pycharm": {
     "name": "#%%\n"
    }
   }
  },
  {
   "cell_type": "markdown",
   "source": [
    "##### conclusion:\n",
    "the mean values of the reliabilities for added links as we systematically increased the link addition ratio. This information helps us to understand how network reliability changes as we add more links.it appears that as we add more links to the network, the mean reliability of the added links increases. This suggests that adding more links enhances network reliability. The increasing trend in mean reliability indicates that adding more links has a positive impact on the network's reliability."
   ],
   "metadata": {
    "collapsed": false,
    "pycharm": {
     "name": "#%% md\n"
    }
   }
  },
  {
   "cell_type": "code",
   "execution_count": 477,
   "outputs": [
    {
     "data": {
      "text/plain": "Text(0.5, 1.0, 'ُSpurious intractions')"
     },
     "execution_count": 477,
     "metadata": {},
     "output_type": "execute_result"
    },
    {
     "data": {
      "text/plain": "<Figure size 600x300 with 1 Axes>",
      "image/png": "[encoded data removed]"
     },
     "metadata": {},
     "output_type": "display_data"
    }
   ],
   "source": [
    "plt.figure(figsize=(6,3))\n",
    "plt.plot(rat,accs,'-o',color='black')\n",
    "plt.axhline(y = 0.5, color = 'k', linestyle = '--')\n",
    "plt.ylabel('Accuracy')\n",
    "plt.xlabel('Fraction of links Added')\n",
    "plt.title('ُSpurious intractions')"
   ],
   "metadata": {
    "collapsed": false,
    "pycharm": {
     "name": "#%%\n"
    }
   }
  },
  {
   "cell_type": "code",
   "execution_count": 478,
   "outputs": [],
   "source": [
    "A_O = np.load('A0.npy')\n",
    "A_T = np.load('AT.npy')"
   ],
   "metadata": {
    "collapsed": false,
    "pycharm": {
     "name": "#%%\n"
    }
   }
  },
  {
   "cell_type": "code",
   "execution_count": 479,
   "outputs": [
    {
     "name": "stdout",
     "output_type": "stream",
     "text": [
      "number of zero in true network 1250\n",
      "number of one in true network 1250\n"
     ]
    }
   ],
   "source": [
    "num_zeros_A_T = (A_T == 0).sum()\n",
    "print('number of zero in true network',num_zeros_A_T)\n",
    "num_one_A_T = (A_T == 1).sum()\n",
    "print('number of one in true network',num_one_A_T)"
   ],
   "metadata": {
    "collapsed": false,
    "pycharm": {
     "name": "#%%\n"
    }
   }
  },
  {
   "cell_type": "code",
   "execution_count": 480,
   "outputs": [
    {
     "name": "stdout",
     "output_type": "stream",
     "text": [
      "number of zero in A_O network 625\n",
      "number of one in A_O network 1875\n"
     ]
    }
   ],
   "source": [
    "num_zeros_A_O = (A_O == 0).sum()\n",
    "print('number of zero in A_O network',num_zeros_A_O)\n",
    "num_one_A_O = (A_O == 1).sum()\n",
    "print('number of one in A_O network',num_one_A_O)"
   ],
   "metadata": {
    "collapsed": false,
    "pycharm": {
     "name": "#%%\n"
    }
   }
  },
  {
   "cell_type": "code",
   "execution_count": 481,
   "outputs": [
    {
     "name": "stderr",
     "output_type": "stream",
     "text": [
      "  5%|▌         | 1/20 [00:00<00:03,  5.25it/s]"
     ]
    },
    {
     "name": "stdout",
     "output_type": "stream",
     "text": [
      "751.8286065679706\n",
      "99\n"
     ]
    },
    {
     "name": "stderr",
     "output_type": "stream",
     "text": [
      " 10%|█         | 2/20 [00:00<00:03,  5.14it/s]"
     ]
    },
    {
     "name": "stdout",
     "output_type": "stream",
     "text": [
      "759.5478108970153\n",
      "99\n"
     ]
    },
    {
     "name": "stderr",
     "output_type": "stream",
     "text": [
      " 15%|█▌        | 3/20 [00:00<00:03,  5.28it/s]"
     ]
    },
    {
     "name": "stdout",
     "output_type": "stream",
     "text": [
      "769.5239331135286\n",
      "99\n"
     ]
    },
    {
     "name": "stderr",
     "output_type": "stream",
     "text": [
      " 20%|██        | 4/20 [00:00<00:03,  5.24it/s]"
     ]
    },
    {
     "name": "stdout",
     "output_type": "stream",
     "text": [
      "739.1533105264114\n",
      "99\n",
      "750.5915232335442"
     ]
    },
    {
     "name": "stderr",
     "output_type": "stream",
     "text": [
      " 30%|███       | 6/20 [00:01<00:02,  5.22it/s]"
     ]
    },
    {
     "name": "stdout",
     "output_type": "stream",
     "text": [
      "\n",
      "99\n",
      "742.712344806723\n",
      "99\n"
     ]
    },
    {
     "name": "stderr",
     "output_type": "stream",
     "text": [
      " 40%|████      | 8/20 [00:01<00:02,  5.00it/s]"
     ]
    },
    {
     "name": "stdout",
     "output_type": "stream",
     "text": [
      "731.1312218110991\n",
      "99\n",
      "735.4229154544614\n",
      "99\n"
     ]
    },
    {
     "name": "stderr",
     "output_type": "stream",
     "text": [
      " 50%|█████     | 10/20 [00:01<00:01,  5.21it/s]"
     ]
    },
    {
     "name": "stdout",
     "output_type": "stream",
     "text": [
      "739.693000668913\n",
      "99\n",
      "767.7350623621315\n",
      "99\n"
     ]
    },
    {
     "name": "stderr",
     "output_type": "stream",
     "text": [
      " 60%|██████    | 12/20 [00:02<00:01,  5.32it/s]"
     ]
    },
    {
     "name": "stdout",
     "output_type": "stream",
     "text": [
      "762.8650916900008\n",
      "99\n",
      "754.6924543942961\n",
      "99\n"
     ]
    },
    {
     "name": "stderr",
     "output_type": "stream",
     "text": [
      " 70%|███████   | 14/20 [00:02<00:01,  5.30it/s]"
     ]
    },
    {
     "name": "stdout",
     "output_type": "stream",
     "text": [
      "750.202991917773\n",
      "99\n",
      "742.4332771751762\n",
      "99\n"
     ]
    },
    {
     "name": "stderr",
     "output_type": "stream",
     "text": [
      " 80%|████████  | 16/20 [00:03<00:00,  5.77it/s]"
     ]
    },
    {
     "name": "stdout",
     "output_type": "stream",
     "text": [
      "732.5730575365133\n",
      "99\n",
      "721.3353768672912\n",
      "99\n"
     ]
    },
    {
     "name": "stderr",
     "output_type": "stream",
     "text": [
      " 90%|█████████ | 18/20 [00:03<00:00,  5.80it/s]"
     ]
    },
    {
     "name": "stdout",
     "output_type": "stream",
     "text": [
      "750.4485082906912\n",
      "99\n",
      "737.8382675203733\n",
      "99\n"
     ]
    },
    {
     "name": "stderr",
     "output_type": "stream",
     "text": [
      "100%|██████████| 20/20 [00:03<00:00,  5.36it/s]"
     ]
    },
    {
     "name": "stdout",
     "output_type": "stream",
     "text": [
      "736.6713721446946\n",
      "99\n",
      "746.2069134765557\n",
      "99\n"
     ]
    },
    {
     "name": "stderr",
     "output_type": "stream",
     "text": [
      "\n"
     ]
    }
   ],
   "source": [
    "# create empty matrix of shape A_O\n",
    "shape_o=np.shape(A_O)\n",
    "R_matix=np.zeros(shape_o)\n",
    "es = Metropolis(100, 20,A_O)"
   ],
   "metadata": {
    "collapsed": false,
    "pycharm": {
     "name": "#%%\n"
    }
   }
  },
  {
   "cell_type": "code",
   "execution_count": 484,
   "outputs": [],
   "source": [
    "for i in range(shape_o[0]):\n",
    "    for j in range(shape_o[1]):\n",
    "        R_matix[i][j]= R(i,j, A_O, es)"
   ],
   "metadata": {
    "collapsed": false,
    "pycharm": {
     "name": "#%%\n"
    }
   }
  },
  {
   "cell_type": "code",
   "execution_count": 485,
   "outputs": [
    {
     "name": "stdout",
     "output_type": "stream",
     "text": [
      "17.8441\n",
      "6.26876\n"
     ]
    },
    {
     "data": {
      "text/plain": "array([[11.2037 , 16.71901,  8.14268, ..., 15.84475, 13.61212, 16.08214],\n       [16.71901,  8.65152, 17.13902, ...,  7.0869 , 15.39058, 12.24167],\n       [11.19251, 17.13902,  9.76829, ..., 16.3954 , 14.12917, 16.56845],\n       ...,\n       [15.84475, 12.67738, 16.3954 , ..., 12.88889, 15.14838, 12.26667],\n       [ 8.13983, 15.31916,  8.825  , ..., 14.51331, 14.07576, 14.82045],\n       [16.08214,  8.02576, 16.56845, ..., 12.13333, 14.92727,  8.36364]])"
     },
     "execution_count": 485,
     "metadata": {},
     "output_type": "execute_result"
    }
   ],
   "source": [
    "print(np.max(R_matix))\n",
    "print(np.min(R_matix))\n",
    "R_matix"
   ],
   "metadata": {
    "collapsed": false,
    "pycharm": {
     "name": "#%%\n"
    }
   }
  },
  {
   "cell_type": "code",
   "execution_count": 486,
   "outputs": [],
   "source": [
    "A_O[np.where(R_matix > 3)] = 1\n",
    "A_O[np.where(R_matix < 8)] = 0"
   ],
   "metadata": {
    "collapsed": false,
    "pycharm": {
     "name": "#%%\n"
    }
   }
  },
  {
   "cell_type": "code",
   "execution_count": 487,
   "outputs": [
    {
     "data": {
      "text/plain": "<matplotlib.image.AxesImage at 0x158e9eac0>"
     },
     "execution_count": 487,
     "metadata": {},
     "output_type": "execute_result"
    },
    {
     "data": {
      "text/plain": "<Figure size 480x480 with 1 Axes>",
      "image/png": "[encoded data removed]"
     },
     "metadata": {},
     "output_type": "display_data"
    }
   ],
   "source": [
    "plt.matshow(A_O)"
   ],
   "metadata": {
    "collapsed": false,
    "pycharm": {
     "name": "#%%\n"
    }
   }
  },
  {
   "cell_type": "code",
   "execution_count": 488,
   "outputs": [
    {
     "name": "stderr",
     "output_type": "stream",
     "text": [
      " 10%|█         | 2/20 [00:00<00:02,  6.97it/s]"
     ]
    },
    {
     "name": "stdout",
     "output_type": "stream",
     "text": [
      "512.9674105290603\n",
      "99\n",
      "531.989716972876\n",
      "99\n"
     ]
    },
    {
     "name": "stderr",
     "output_type": "stream",
     "text": [
      " 20%|██        | 4/20 [00:00<00:02,  6.99it/s]"
     ]
    },
    {
     "name": "stdout",
     "output_type": "stream",
     "text": [
      "552.6774101057658\n",
      "99\n",
      "565.9902287133473\n",
      "99\n"
     ]
    },
    {
     "name": "stderr",
     "output_type": "stream",
     "text": [
      " 30%|███       | 6/20 [00:00<00:02,  6.88it/s]"
     ]
    },
    {
     "name": "stdout",
     "output_type": "stream",
     "text": [
      "548.0929175955099\n",
      "99\n",
      "552.6354100677308\n",
      "99\n"
     ]
    },
    {
     "name": "stderr",
     "output_type": "stream",
     "text": [
      " 40%|████      | 8/20 [00:01<00:01,  6.98it/s]"
     ]
    },
    {
     "name": "stdout",
     "output_type": "stream",
     "text": [
      "528.1015792119175\n",
      "99\n",
      "544.7116933851108\n",
      "99\n"
     ]
    },
    {
     "name": "stderr",
     "output_type": "stream",
     "text": [
      " 50%|█████     | 10/20 [00:01<00:01,  7.01it/s]"
     ]
    },
    {
     "name": "stdout",
     "output_type": "stream",
     "text": [
      "550.0684816783822\n",
      "99\n",
      "531.0708713949341\n",
      "99\n"
     ]
    },
    {
     "name": "stderr",
     "output_type": "stream",
     "text": [
      " 60%|██████    | 12/20 [00:01<00:01,  6.69it/s]"
     ]
    },
    {
     "name": "stdout",
     "output_type": "stream",
     "text": [
      "565.1535854940131\n",
      "99\n",
      "562.1101378847861\n",
      "99\n"
     ]
    },
    {
     "name": "stderr",
     "output_type": "stream",
     "text": [
      " 70%|███████   | 14/20 [00:02<00:00,  6.44it/s]"
     ]
    },
    {
     "name": "stdout",
     "output_type": "stream",
     "text": [
      "578.2377877947891\n",
      "99\n",
      "565.5613949926152\n",
      "99\n"
     ]
    },
    {
     "name": "stderr",
     "output_type": "stream",
     "text": [
      " 80%|████████  | 16/20 [00:02<00:00,  6.72it/s]"
     ]
    },
    {
     "name": "stdout",
     "output_type": "stream",
     "text": [
      "554.4402779236059\n",
      "99\n",
      "519.6883936498075\n",
      "99\n"
     ]
    },
    {
     "name": "stderr",
     "output_type": "stream",
     "text": [
      " 90%|█████████ | 18/20 [00:02<00:00,  6.72it/s]"
     ]
    },
    {
     "name": "stdout",
     "output_type": "stream",
     "text": [
      "543.8171767979585\n",
      "99\n",
      "572.6371157589742\n",
      "99\n"
     ]
    },
    {
     "name": "stderr",
     "output_type": "stream",
     "text": [
      "100%|██████████| 20/20 [00:02<00:00,  6.75it/s]"
     ]
    },
    {
     "name": "stdout",
     "output_type": "stream",
     "text": [
      "570.0276911216264\n",
      "99\n",
      "558.5713995886578\n",
      "99\n"
     ]
    },
    {
     "name": "stderr",
     "output_type": "stream",
     "text": [
      "\n"
     ]
    }
   ],
   "source": [
    "shape_T=np.shape(A_T)\n",
    "R_mat_A_T=np.zeros(shape_T)\n",
    "es = Metropolis(100, 20,A_O)"
   ],
   "metadata": {
    "collapsed": false,
    "pycharm": {
     "name": "#%%\n"
    }
   }
  },
  {
   "cell_type": "code",
   "execution_count": 489,
   "outputs": [],
   "source": [
    "for i in range(shape_T[0]):\n",
    "    for j in range(shape_T[1]):\n",
    "        R_mat_A_T[i][j]= R(i,j, A_T, es)"
   ],
   "metadata": {
    "collapsed": false,
    "pycharm": {
     "name": "#%%\n"
    }
   }
  },
  {
   "cell_type": "code",
   "execution_count": 490,
   "outputs": [
    {
     "name": "stdout",
     "output_type": "stream",
     "text": [
      "13.94286\n",
      "5.4899\n"
     ]
    },
    {
     "data": {
      "text/plain": "array([[ 6.8578 , 12.12073,  8.96412, ..., 12.42143,  8.52058, 12.38766],\n       [12.12073,  7.03352, 10.50699, ...,  7.1452 , 10.88691,  7.48131],\n       [ 8.96412, 10.50699,  7.96717, ..., 11.14113,  8.97042, 10.78625],\n       ...,\n       [12.42143,  7.1452 , 11.14113, ...,  6.69697, 11.23214,  7.45833],\n       [ 8.52058, 10.88691,  8.97042, ..., 11.23214,  6.7807 , 11.9053 ],\n       [12.38766,  7.48131, 10.78625, ...,  7.45833, 11.9053 ,  6.55556]])"
     },
     "execution_count": 490,
     "metadata": {},
     "output_type": "execute_result"
    }
   ],
   "source": [
    "print(np.max(R_mat_A_T))\n",
    "print(np.min(R_mat_A_T))\n",
    "R_mat_A_T"
   ],
   "metadata": {
    "collapsed": false,
    "pycharm": {
     "name": "#%%\n"
    }
   }
  },
  {
   "cell_type": "code",
   "execution_count": 491,
   "outputs": [],
   "source": [
    "A_T[np.where(R_mat_A_T > 3)] = 1\n",
    "A_T[np.where(R_mat_A_T < 8)] = 0"
   ],
   "metadata": {
    "collapsed": false,
    "pycharm": {
     "name": "#%%\n"
    }
   }
  },
  {
   "cell_type": "code",
   "execution_count": 492,
   "outputs": [
    {
     "data": {
      "text/plain": "<matplotlib.image.AxesImage at 0x158f03df0>"
     },
     "execution_count": 492,
     "metadata": {},
     "output_type": "execute_result"
    },
    {
     "data": {
      "text/plain": "<Figure size 480x480 with 1 Axes>",
      "image/png": "[encoded data removed]"
     },
     "metadata": {},
     "output_type": "display_data"
    }
   ],
   "source": [
    "plt.matshow(A_T)"
   ],
   "metadata": {
    "collapsed": false,
    "pycharm": {
     "name": "#%%\n"
    }
   }
  },
  {
   "cell_type": "code",
   "execution_count": null,
   "outputs": [],
   "source": [],
   "metadata": {
    "collapsed": false,
    "pycharm": {
     "name": "#%%\n"
    }
   }
  }
 ],
 "metadata": {
  "kernelspec": {
   "display_name": "Python 3",
   "language": "python",
   "name": "python3"
  },
  "language_info": {
   "codemirror_mode": {
    "name": "ipython",
    "version": 2
   },
   "file_extension": ".py",
   "mimetype": "text/x-python",
   "name": "python",
   "nbconvert_exporter": "python",
   "pygments_lexer": "ipython2",
   "version": "2.7.6"
  }
 },
 "nbformat": 4,
 "nbformat_minor": 0
}