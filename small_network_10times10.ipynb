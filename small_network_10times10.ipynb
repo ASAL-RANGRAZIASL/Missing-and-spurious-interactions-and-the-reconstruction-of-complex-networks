{
 "cells": [
  {
   "cell_type": "code",
   "execution_count": 12,
   "metadata": {
    "collapsed": true
   },
   "outputs": [],
   "source": [
    "import matplotlib.pyplot as plt\n",
    "import networkx as nx\n",
    "import math\n",
    "import numpy as np\n",
    "import random\n",
    "import operator as op\n",
    "from functools import reduce\n",
    "from tqdm import tqdm\n",
    "import copy\n",
    "import pickle\n",
    "from scipy import io\n",
    "import networkx as nx"
   ]
  },
  {
   "cell_type": "code",
   "execution_count": null,
   "outputs": [],
   "source": [
    "small_network_100times100.ipynb"
   ],
   "metadata": {
    "collapsed": false,
    "pycharm": {
     "name": "#%%\n"
    }
   }
  },
  {
   "cell_type": "code",
   "execution_count": 13,
   "outputs": [],
   "source": [
    "A_T = np.array([[0, 1, 0, 1, 0, 1, 0, 1, 0, 1],\n",
    "                        [1, 0, 1, 0, 1, 0, 1, 0, 1, 0],\n",
    "                        [0, 1, 0, 1, 0, 1, 0, 1, 0, 1],\n",
    "                        [1, 0, 1, 0, 1, 0, 1, 0, 1, 0],\n",
    "                        [0, 1, 0, 1, 0, 1, 0, 1, 0, 1],\n",
    "                        [1, 0, 1, 0, 1, 0, 1, 0, 1, 0],\n",
    "                        [0, 1, 0, 1, 0, 1, 0, 1, 0, 1],\n",
    "                        [1, 0, 1, 0, 1, 0, 1, 0, 1, 0],\n",
    "                        [0, 1, 0, 1, 0, 1, 0, 1, 0, 1],\n",
    "                        [1, 0, 1, 0, 1, 0, 1, 0, 1, 0]])"
   ],
   "metadata": {
    "collapsed": false,
    "pycharm": {
     "name": "#%%\n"
    }
   }
  },
  {
   "cell_type": "code",
   "execution_count": 14,
   "outputs": [],
   "source": [
    "#The purpose of this partitioning appears to be part of the Metropolis-Hastings algorithm.\n",
    "# The binomial coefficien: C(n, r) = n! / (r! * (n - r)!)\n",
    "def ncr(n, r):  #n choose r\n",
    "    r = min(r, n-r)\n",
    "    numer = reduce(op.mul, range(n, n-r, -1), 1)\n",
    "    denom = reduce(op.mul, range(1, r+1), 1)\n",
    "    return numer // denom  # or / in Python 2\n",
    "\n",
    "def index_2d(myList, v): #return the exact index\n",
    "    for i, x in enumerate(myList):\n",
    "        if v in x:\n",
    "            return (i, x.index(v))\n",
    "\n",
    "def l_ij(alpha,beta, A_T,part):       #number of links between group i and j\n",
    "    link_num = 0\n",
    "    for a in part[alpha]:\n",
    "        for b in part[beta]:\n",
    "            if A_T[a, b] == 1:\n",
    "                link_num += 1\n",
    "    return(link_num)\n",
    "\n",
    "\n",
    "def r_ij(alpha,beta, part):       #maximum possible number of links between group i and j\n",
    "    return(len(part[alpha]) * len(part[beta]))"
   ],
   "metadata": {
    "collapsed": false,
    "pycharm": {
     "name": "#%%\n"
    }
   }
  },
  {
   "cell_type": "code",
   "execution_count": 15,
   "outputs": [],
   "source": [
    "def R(i, j, A_T, all_part):   #all_part is a list containing all different partitions\n",
    "    big_sum= 0\n",
    "    Z=0\n",
    "    first_loop_cond = True\n",
    "    for part in all_part:\n",
    "\n",
    "        if first_loop_cond:\n",
    "            gooz_list = [[x,y] for x in range(len(part)) for y in range(len(part)) if len(part[x])<len(part[y])]\n",
    "            pair_list=[]\n",
    "            for x in gooz_list:\n",
    "                if x not in pair_list: pair_list.append(x)\n",
    "\n",
    "            # H(p) formula\n",
    "            H_P = 0\n",
    "            for pair in pair_list:\n",
    "                alpha, beta = pair\n",
    "                l = l_ij(alpha, beta, A_T, part)\n",
    "                r = r_ij(alpha, beta, part)\n",
    "                h_p = math.log(r+1) + math.log(ncr(r, l))\n",
    "                H_P += h_p\n",
    "\n",
    "            Z += np.exp(-H_P)\n",
    "            first_loop_cond = False\n",
    "        # print('Pair:',pair,',l:',l,',r:',r,',h_p:',h_p,',H_P:',H_P)\n",
    "\n",
    "\n",
    "        # define : (l(sigma_i,sigma_j) + 1) / (r(sigma_i,sigma_j) + 2) inside R formula\n",
    "        sigma_i = index_2d(part, i)[0]\n",
    "        sigma_j = index_2d(part, j)[0]\n",
    "        l = l_ij(sigma_i , sigma_j , A_T, part)\n",
    "        r = r_ij(sigma_i , sigma_j , part)\n",
    "        parantez = ((l + 1)/(r+2))\n",
    "\n",
    "        # print(Z)\n",
    "        big_sum += parantez* np.exp(-H_P)\n",
    "        R_ij = big_sum/Z\n",
    "        # print('reliability of i={} and j={}:'.format(i, j), round(R_ij,4))\n",
    "    return(round(R_ij,5))\n",
    "\n",
    "\n",
    "\n"
   ],
   "metadata": {
    "collapsed": false,
    "pycharm": {
     "name": "#%%\n"
    }
   }
  },
  {
   "cell_type": "code",
   "execution_count": 16,
   "outputs": [],
   "source": [
    "# I also define H(P) seperatly because I need it in metropolis function\n",
    "def H(P,AT_tmp):\n",
    "    pair_list=[]\n",
    "    H_P=0\n",
    "    for i in range(len(P)):\n",
    "        for j in range(len(P)):\n",
    "            if i<=j:\n",
    "                pair_list.append([i,j])\n",
    "    for pair in pair_list:\n",
    "            alpha, beta = pair\n",
    "            l = l_ij(alpha, beta, AT_tmp, P)\n",
    "            r = r_ij(alpha, beta, P)\n",
    "            h_p = math.log(r+1) + math.log(ncr(r, l))\n",
    "            H_P += h_p\n",
    "    return(H_P)"
   ],
   "metadata": {
    "collapsed": false,
    "pycharm": {
     "name": "#%%\n"
    }
   }
  },
  {
   "cell_type": "code",
   "execution_count": 17,
   "outputs": [],
   "source": [
    "def Metropolis(T,ens,AT_tmp):#number of iterations (ensemble size)\n",
    "    e=[] #store result of simulation\n",
    "    for i in tqdm(range(ens)):\n",
    "        partitions =  [[i] for i in range(10)].copy()\n",
    "        c=0\n",
    "        for kk in range(T):\n",
    "            partitions = [ele for ele in partitions if ele != []]\n",
    "            part_before=copy.deepcopy(partitions)\n",
    "\n",
    "            H0=H(partitions,AT_tmp) #compute hamiltonian\n",
    "            rpp=random.randint(0,len(partitions)-1)\n",
    "            m,n=index_2d(partitions,rpp)\n",
    "            a=partitions[m][n] #select random partition from rpp\n",
    "            del partitions[m][n] #delete an element at a specific position in a 2D list\n",
    "            rp=random.randint(0,len(partitions)-1)\n",
    "            partitions[rp].append(a) #moves (a) to another random partition rp\n",
    "            Hf=H(partitions,AT_tmp)\n",
    "            deltaH=Hf-H0 #calculates the change in energy due to move\n",
    "            if deltaH>0:\n",
    "                if random.random() > np.exp(-deltaH):\n",
    "                    partitions=part_before.copy()\n",
    "        ppp = [ele for ele in partitions if ele != []]\n",
    "        e.append(ppp)\n",
    "        #     partitions = [ele for ele in partitions if ele != []]\n",
    "        #\n",
    "        # ppp=copy.deepcopy(partitions)\n",
    "        # e.append(ppp) # The final partitioning is appended to the e list\n",
    "        print(H(partitions,AT_tmp))\n",
    "        print(kk)\n",
    "    return(e)"
   ],
   "metadata": {
    "collapsed": false,
    "pycharm": {
     "name": "#%%\n"
    }
   }
  },
  {
   "cell_type": "code",
   "execution_count": 18,
   "outputs": [
    {
     "name": "stderr",
     "output_type": "stream",
     "text": [
      "100%|██████████| 20/20 [00:00<00:00, 152.87it/s]"
     ]
    },
    {
     "name": "stdout",
     "output_type": "stream",
     "text": [
      "18.24081217611948\n",
      "99\n",
      "14.286513687543092\n",
      "99\n",
      "18.24081217611948\n",
      "99\n",
      "22.23085705302248\n",
      "99\n",
      "18.240812176119476\n",
      "99\n",
      "18.240812176119476\n",
      "99\n",
      "22.23085705302248\n",
      "99\n",
      "21.748742757251428\n",
      "99\n",
      "17.016833223584882\n",
      "99\n",
      "21.748742757251428\n",
      "99\n",
      "18.240812176119476\n",
      "99\n",
      "18.240812176119476\n",
      "99\n",
      "21.748742757251424\n",
      "99\n",
      "18.240812176119476\n",
      "99\n",
      "14.286513687543096\n",
      "99\n",
      "18.24081217611948\n",
      "99\n",
      "18.240812176119476\n",
      "99\n",
      "19.519709612505693\n",
      "99\n",
      "13.23017688202322\n",
      "99\n",
      "18.240812176119476\n",
      "99\n"
     ]
    },
    {
     "name": "stderr",
     "output_type": "stream",
     "text": [
      "\n"
     ]
    }
   ],
   "source": [
    "es = Metropolis(100, 20,A_T)"
   ],
   "metadata": {
    "collapsed": false,
    "pycharm": {
     "name": "#%%\n"
    }
   }
  },
  {
   "cell_type": "code",
   "execution_count": 19,
   "outputs": [],
   "source": [
    "def link_remover(A_T, ratio): #adjacency matrix :A_T #the ratio of links to be removed:ratio\n",
    "    one_index = np.where(A_T==1)\n",
    "    one_list = [[one_index[0][i], one_index[1][i]] for i in range(len(one_index[0]))]\n",
    "    r = random.sample(one_list, int(ratio * np.sum(A_T)/2)) #randomly selects a subset of the pairs from\n",
    "    return(r)\n",
    "\n",
    "#sorting\n",
    "def Sort(sub_li):\n",
    "    sub_li.sort(key = lambda x: x[1])\n",
    "    return sub_li.reverse()\n",
    "\n",
    "#extract the first element\n",
    "def Extract(lst):\n",
    "    return list(list(zip(*lst))[0])\n",
    "\n",
    "def acc(k):\n",
    "    zeros=k.count(0)\n",
    "    ones=k.count(1)\n",
    "    ef=0\n",
    "    for i in range(len(k)):\n",
    "        if k[i]==1:\n",
    "            ef+=k[i:].count(0)/zeros\n",
    "    return ef/ones"
   ],
   "metadata": {
    "collapsed": false,
    "pycharm": {
     "name": "#%%\n"
    }
   }
  },
  {
   "cell_type": "code",
   "execution_count": 20,
   "outputs": [
    {
     "name": "stderr",
     "output_type": "stream",
     "text": [
      "100%|██████████| 50/50 [00:00<00:00, 13558.00it/s]\n"
     ]
    }
   ],
   "source": [
    "zero_real = []\n",
    "zero_index = np.where(A_T==0)\n",
    "\n",
    "for i in tqdm(range(len(zero_index[0]))):\n",
    "    zero_real.append(R(zero_index[0][i], zero_index[1][i], A_T, es))"
   ],
   "metadata": {
    "collapsed": false,
    "pycharm": {
     "name": "#%%\n"
    }
   }
  },
  {
   "cell_type": "code",
   "execution_count": 21,
   "outputs": [
    {
     "name": "stdout",
     "output_type": "stream",
     "text": [
      "the mean value 14.88\n",
      "the mean value 14.78\n",
      "the mean value 12.87\n",
      "the mean value 9.48\n",
      "the mean value 9.45\n",
      "the mean value 5.12\n",
      "the mean value 5.5\n",
      "the mean value 4.95\n",
      "the mean value 3.93\n",
      "the mean value 3.15\n"
     ]
    }
   ],
   "source": [
    "rat=np.linspace(0.1,1,10)\n",
    "accs=[]\n",
    "for r in rat:\n",
    "    selected_links = link_remover(A_T, r)\n",
    "    for link in selected_links: A_T[link[0], link[1]] = 0\n",
    "    zero_fake=[]\n",
    "    for i in selected_links:\n",
    "        zero_fake.append(R(i[0], i[1], A_T, es))\n",
    "    print('the mean value', round(np.mean(zero_fake),2))\n",
    "    all_real = []\n",
    "    for i in zero_fake: all_real.append([1, i])\n",
    "    for i in zero_real: all_real.append([0, i])\n",
    "    Sort(all_real)\n",
    "    ext=Extract(all_real)\n",
    "    accs.append(acc(ext))"
   ],
   "metadata": {
    "collapsed": false,
    "pycharm": {
     "name": "#%%\n"
    }
   }
  },
  {
   "cell_type": "code",
   "execution_count": 22,
   "outputs": [
    {
     "data": {
      "text/plain": "Text(0.5, 1.0, 'Missing intractions')"
     },
     "execution_count": 22,
     "metadata": {},
     "output_type": "execute_result"
    },
    {
     "data": {
      "text/plain": "<Figure size 600x300 with 1 Axes>",
      "image/png": "[encoded data removed]"
     },
     "metadata": {},
     "output_type": "display_data"
    }
   ],
   "source": [
    "plt.figure(figsize=(6,3))\n",
    "plt.plot(rat,accs,'-o',color='black')\n",
    "plt.axhline(y = 0.5, color = 'k', linestyle = '--')\n",
    "plt.ylabel('Accuracy')\n",
    "plt.xlabel('Fraction of links removed')\n",
    "plt.title('Missing intractions')\n"
   ],
   "metadata": {
    "collapsed": false,
    "pycharm": {
     "name": "#%%\n"
    }
   }
  },
  {
   "cell_type": "code",
   "execution_count": 22,
   "outputs": [],
   "source": [],
   "metadata": {
    "collapsed": false,
    "pycharm": {
     "name": "#%%\n"
    }
   }
  }
 ],
 "metadata": {
  "kernelspec": {
   "display_name": "Python 3",
   "language": "python",
   "name": "python3"
  },
  "language_info": {
   "codemirror_mode": {
    "name": "ipython",
    "version": 2
   },
   "file_extension": ".py",
   "mimetype": "text/x-python",
   "name": "python",
   "nbconvert_exporter": "python",
   "pygments_lexer": "ipython2",
   "version": "2.7.6"
  }
 },
 "nbformat": 4,
 "nbformat_minor": 0
}