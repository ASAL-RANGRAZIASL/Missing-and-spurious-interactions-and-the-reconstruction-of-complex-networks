{
 "cells": [
  {
   "cell_type": "code",
   "execution_count": 14,
   "metadata": {
    "collapsed": true
   },
   "outputs": [],
   "source": [
    "import matplotlib.pyplot as plt\n",
    "import networkx as nx\n",
    "import math\n",
    "import numpy as np\n",
    "import random\n",
    "import operator as op\n",
    "from functools import reduce\n",
    "from tqdm import tqdm\n",
    "import copy\n",
    "import pickle\n",
    "from scipy import io\n",
    "import networkx as nx"
   ]
  },
  {
   "cell_type": "code",
   "execution_count": 15,
   "outputs": [
    {
     "name": "stdout",
     "output_type": "stream",
     "text": [
      "[[1. 1. 1. ... 1. 0. 1.]\n",
      " [0. 0. 0. ... 1. 0. 1.]\n",
      " [1. 1. 0. ... 1. 0. 1.]\n",
      " ...\n",
      " [0. 1. 1. ... 0. 1. 1.]\n",
      " [0. 1. 0. ... 1. 0. 0.]\n",
      " [0. 1. 1. ... 0. 0. 1.]]\n"
     ]
    }
   ],
   "source": [
    "# A_T= np.zeros((50, 50), dtype=float)\n",
    "# A_T[1::2, ::2] = 1\n",
    "# A_T[::2, 1::2] = 1\n",
    "A_T=np.array(np.random.randint(2,size=(50,50)),dtype=float)\n",
    "print(A_T)\n",
    "A_T_ORG=A_T\n",
    "np.save('AT',A_T)"
   ],
   "metadata": {
    "collapsed": false,
    "pycharm": {
     "name": "#%%\n"
    }
   }
  },
  {
   "cell_type": "code",
   "execution_count": 16,
   "outputs": [],
   "source": [
    "#The purpose of this partitioning appears to be part of the Metropolis-Hastings algorithm.\n",
    "# The binomial coefficien: C(n, r) = n! / (r! * (n - r)!)\n",
    "def ncr(n, r):  #n choose r\n",
    "    r = min(r, n-r)\n",
    "    numer = reduce(op.mul, range(n, n-r, -1), 1)\n",
    "    denom = reduce(op.mul, range(1, r+1), 1)\n",
    "    return numer // denom  # or / in Python 2\n",
    "\n",
    "def index_2d(myList, v): #return the exact index\n",
    "    for i, x in enumerate(myList):\n",
    "        if v in x:\n",
    "            return (i, x.index(v))\n",
    "\n",
    "def l_ij(alpha,beta, A_T,part):       #number of links between group i and j\n",
    "    link_num = 0\n",
    "    for a in part[alpha]:\n",
    "        for b in part[beta]:\n",
    "            if A_T[a, b] == 1:\n",
    "                link_num += 1\n",
    "    return(link_num)\n",
    "\n",
    "\n",
    "def r_ij(alpha,beta, part):       #maximum possible number of links between group i and j\n",
    "    return(len(part[alpha]) * len(part[beta]))"
   ],
   "metadata": {
    "collapsed": false,
    "pycharm": {
     "name": "#%%\n"
    }
   }
  },
  {
   "cell_type": "code",
   "execution_count": 17,
   "outputs": [],
   "source": [
    "# def R(i, j, A_T, all_part):   #all_part is a list containing all different partitions\n",
    "#     big_sum= 0\n",
    "#     Z=0\n",
    "#     first_loop_cond = True\n",
    "#     for part in all_part:\n",
    "#\n",
    "#         if first_loop_cond:\n",
    "#             gooz_list = [[x,y] for x in range(len(part)) for y in range(len(part)) if len(part[x])<len(part[y])]\n",
    "#             pair_list=[]\n",
    "#             for x in gooz_list:\n",
    "#                 if x not in pair_list: pair_list.append(x)\n",
    "#\n",
    "#             # H(p) formula\n",
    "#             H_P = 0\n",
    "#             for pair in pair_list:\n",
    "#                 alpha, beta = pair\n",
    "#                 l = l_ij(alpha, beta, A_T, part)\n",
    "#                 r = r_ij(alpha, beta, part)\n",
    "#                 h_p = math.log(r+1) + math.log(ncr(r, l))\n",
    "#                 H_P += h_p\n",
    "#\n",
    "#             Z += np.exp(-H_P)\n",
    "#             first_loop_cond = False\n",
    "#         # print('Pair:',pair,',l:',l,',r:',r,',h_p:',h_p,',H_P:',H_P)\n",
    "#\n",
    "#\n",
    "#         # define : (l(sigma_i,sigma_j) + 1) / (r(sigma_i,sigma_j) + 2) inside R formula\n",
    "#         sigma_i = index_2d(part, i)[0]\n",
    "#         sigma_j = index_2d(part, j)[0]\n",
    "#         l = l_ij(sigma_i , sigma_j , A_T, part)\n",
    "#         r = r_ij(sigma_i , sigma_j , part)\n",
    "#         parantez = ((l + 1)/(r+2))\n",
    "#\n",
    "#         # print(Z)\n",
    "#         big_sum += parantez* np.exp(-H_P)\n",
    "#         R_ij = big_sum/Z\n",
    "#         # print('reliability of i={} and j={}:'.format(i, j), round(R_ij,4))\n",
    "#     return(round(R_ij,5))\n",
    "#\n",
    "\n",
    "def R(i, j, A_T, all_part):   #all_part is a list containing all different partitions\n",
    "    big_sum= 0\n",
    "    Z=0\n",
    "    for part in all_part:\n",
    "\n",
    "        sigma_i = index_2d(part, i)[0]\n",
    "        sigma_j = index_2d(part, j)[0]\n",
    "        l = l_ij(sigma_i , sigma_j , A_T, part)\n",
    "        r = r_ij(sigma_i , sigma_j , part)\n",
    "        paran = ((l + 1)/(r+2))\n",
    "\n",
    "        gooz_list = [[x,y] for x in range(len(part)) for y in range(len(part)) if len(part[x])<len(part[y])]\n",
    "        pair_list=[]\n",
    "        for x in gooz_list:\n",
    "            if x not in pair_list: pair_list.append(x)\n",
    "        H_P = 0\n",
    "        for pair in pair_list:\n",
    "            alpha, beta = pair\n",
    "            l = l_ij(alpha, beta, A_T, part)\n",
    "            r = r_ij(alpha, beta, part)\n",
    "            h_p = math.log(r+1) + math.log(ncr(r, l))\n",
    "            H_P += h_p\n",
    "        Z += np.exp(-H_P)\n",
    "        big_sum += paran* np.exp(-H_P)\n",
    "        R_ij = big_sum/Z\n",
    "    # print('reliability of i={} and j={}:'.format(i, j), round(R_ij,4))\n",
    "    return(round(R_ij,5))\n",
    "\n"
   ],
   "metadata": {
    "collapsed": false,
    "pycharm": {
     "name": "#%%\n"
    }
   }
  },
  {
   "cell_type": "code",
   "execution_count": 18,
   "outputs": [],
   "source": [
    "# I also define H(P) seperatly because I need it in metropolis function\n",
    "def H(P,AT_tmp):\n",
    "    pair_list=[]\n",
    "    H_P=0\n",
    "    for i in range(len(P)):\n",
    "        for j in range(len(P)):\n",
    "            if i<=j:\n",
    "                pair_list.append([i,j])\n",
    "    for pair in pair_list:\n",
    "            alpha, beta = pair\n",
    "            l = l_ij(alpha, beta, AT_tmp, P)\n",
    "            r = r_ij(alpha, beta, P)\n",
    "            h_p = math.log(r+1) + math.log(ncr(r, l))\n",
    "            H_P += h_p\n",
    "    return(H_P)"
   ],
   "metadata": {
    "collapsed": false,
    "pycharm": {
     "name": "#%%\n"
    }
   }
  },
  {
   "cell_type": "code",
   "execution_count": 19,
   "outputs": [],
   "source": [
    "def Metropolis(T,ens,AT_tmp):#number of iterations (ensemble size)\n",
    "    e=[] #store result of simulation\n",
    "    for i in tqdm(range(ens)):\n",
    "        partitions =  [[i] for i in range(AT_tmp.shape[0])].copy()\n",
    "        c=0\n",
    "        for kk in range(T):\n",
    "            partitions = [ele for ele in partitions if ele != []]\n",
    "            part_before=copy.deepcopy(partitions)\n",
    "\n",
    "            H0=H(partitions,AT_tmp) #compute hamiltonian\n",
    "            rpp=random.randint(0,len(partitions)-1)\n",
    "            m,n=index_2d(partitions,rpp)\n",
    "            a=partitions[m][n] #select random partition from rpp\n",
    "            del partitions[m][n] #delete an element at a specific position in a 2D list\n",
    "            rp=random.randint(0,len(partitions)-1)\n",
    "            partitions[rp].append(a) #moves (a) to another random partition rp\n",
    "            Hf=H(partitions,AT_tmp)\n",
    "            deltaH=Hf-H0 #calculates the change in energy due to move\n",
    "            if deltaH>0:\n",
    "                if random.random() > np.exp(-deltaH):\n",
    "                    partitions=part_before.copy()\n",
    "        ppp = [ele for ele in partitions if ele != []]\n",
    "        e.append(ppp)\n",
    "        #     partitions = [ele for ele in partitions if ele != []]\n",
    "        #\n",
    "        # ppp=copy.deepcopy(partitions)\n",
    "        # e.append(ppp) # The final partitioning is appended to the e list\n",
    "        print(H(partitions,AT_tmp))\n",
    "        print(kk)\n",
    "    return(e)"
   ],
   "metadata": {
    "collapsed": false,
    "pycharm": {
     "name": "#%%\n"
    }
   }
  },
  {
   "cell_type": "code",
   "execution_count": 20,
   "outputs": [
    {
     "name": "stderr",
     "output_type": "stream",
     "text": [
      "  5%|▌         | 1/20 [00:00<00:05,  3.38it/s]"
     ]
    },
    {
     "name": "stdout",
     "output_type": "stream",
     "text": [
      "899.8841489504771\n",
      "99\n"
     ]
    },
    {
     "name": "stderr",
     "output_type": "stream",
     "text": [
      " 10%|█         | 2/20 [00:00<00:04,  3.88it/s]"
     ]
    },
    {
     "name": "stdout",
     "output_type": "stream",
     "text": [
      "894.9769595476012\n",
      "99\n"
     ]
    },
    {
     "name": "stderr",
     "output_type": "stream",
     "text": [
      " 15%|█▌        | 3/20 [00:00<00:04,  3.87it/s]"
     ]
    },
    {
     "name": "stdout",
     "output_type": "stream",
     "text": [
      "882.5493234576638\n",
      "99\n"
     ]
    },
    {
     "name": "stderr",
     "output_type": "stream",
     "text": [
      " 20%|██        | 4/20 [00:01<00:04,  3.90it/s]"
     ]
    },
    {
     "name": "stdout",
     "output_type": "stream",
     "text": [
      "878.5438511598767\n",
      "99\n"
     ]
    },
    {
     "name": "stderr",
     "output_type": "stream",
     "text": [
      " 25%|██▌       | 5/20 [00:01<00:03,  3.76it/s]"
     ]
    },
    {
     "name": "stdout",
     "output_type": "stream",
     "text": [
      "876.7967508188412\n",
      "99\n"
     ]
    },
    {
     "name": "stderr",
     "output_type": "stream",
     "text": [
      " 30%|███       | 6/20 [00:01<00:03,  3.88it/s]"
     ]
    },
    {
     "name": "stdout",
     "output_type": "stream",
     "text": [
      "882.6427168284996\n",
      "99\n"
     ]
    },
    {
     "name": "stderr",
     "output_type": "stream",
     "text": [
      " 35%|███▌      | 7/20 [00:01<00:03,  3.99it/s]"
     ]
    },
    {
     "name": "stdout",
     "output_type": "stream",
     "text": [
      "889.1481587090102\n",
      "99\n"
     ]
    },
    {
     "name": "stderr",
     "output_type": "stream",
     "text": [
      " 40%|████      | 8/20 [00:02<00:03,  3.92it/s]"
     ]
    },
    {
     "name": "stdout",
     "output_type": "stream",
     "text": [
      "883.5702348109404\n",
      "99\n"
     ]
    },
    {
     "name": "stderr",
     "output_type": "stream",
     "text": [
      " 45%|████▌     | 9/20 [00:02<00:02,  4.00it/s]"
     ]
    },
    {
     "name": "stdout",
     "output_type": "stream",
     "text": [
      "889.9511875116316\n",
      "99\n"
     ]
    },
    {
     "name": "stderr",
     "output_type": "stream",
     "text": [
      " 50%|█████     | 10/20 [00:02<00:02,  3.99it/s]"
     ]
    },
    {
     "name": "stdout",
     "output_type": "stream",
     "text": [
      "878.8855843971568\n",
      "99\n"
     ]
    },
    {
     "name": "stderr",
     "output_type": "stream",
     "text": [
      " 55%|█████▌    | 11/20 [00:02<00:02,  4.06it/s]"
     ]
    },
    {
     "name": "stdout",
     "output_type": "stream",
     "text": [
      "885.0141944745938\n",
      "99\n"
     ]
    },
    {
     "name": "stderr",
     "output_type": "stream",
     "text": [
      " 60%|██████    | 12/20 [00:03<00:02,  3.91it/s]"
     ]
    },
    {
     "name": "stdout",
     "output_type": "stream",
     "text": [
      "885.0894489495871\n",
      "99\n"
     ]
    },
    {
     "name": "stderr",
     "output_type": "stream",
     "text": [
      " 65%|██████▌   | 13/20 [00:03<00:01,  3.88it/s]"
     ]
    },
    {
     "name": "stdout",
     "output_type": "stream",
     "text": [
      "878.731366961278\n",
      "99\n"
     ]
    },
    {
     "name": "stderr",
     "output_type": "stream",
     "text": [
      " 70%|███████   | 14/20 [00:03<00:01,  3.94it/s]"
     ]
    },
    {
     "name": "stdout",
     "output_type": "stream",
     "text": [
      "892.4553245952762\n",
      "99\n"
     ]
    },
    {
     "name": "stderr",
     "output_type": "stream",
     "text": [
      " 75%|███████▌  | 15/20 [00:03<00:01,  3.82it/s]"
     ]
    },
    {
     "name": "stdout",
     "output_type": "stream",
     "text": [
      "876.8582588566127\n",
      "99\n"
     ]
    },
    {
     "name": "stderr",
     "output_type": "stream",
     "text": [
      " 80%|████████  | 16/20 [00:04<00:01,  3.85it/s]"
     ]
    },
    {
     "name": "stdout",
     "output_type": "stream",
     "text": [
      "882.351320299956\n",
      "99\n"
     ]
    },
    {
     "name": "stderr",
     "output_type": "stream",
     "text": [
      " 85%|████████▌ | 17/20 [00:04<00:00,  3.84it/s]"
     ]
    },
    {
     "name": "stdout",
     "output_type": "stream",
     "text": [
      "873.3404069526777\n",
      "99\n"
     ]
    },
    {
     "name": "stderr",
     "output_type": "stream",
     "text": [
      " 90%|█████████ | 18/20 [00:04<00:00,  3.61it/s]"
     ]
    },
    {
     "name": "stdout",
     "output_type": "stream",
     "text": [
      "881.2322170032487\n",
      "99\n"
     ]
    },
    {
     "name": "stderr",
     "output_type": "stream",
     "text": [
      " 95%|█████████▌| 19/20 [00:04<00:00,  3.68it/s]"
     ]
    },
    {
     "name": "stdout",
     "output_type": "stream",
     "text": [
      "888.4672125037775\n",
      "99\n"
     ]
    },
    {
     "name": "stderr",
     "output_type": "stream",
     "text": [
      "100%|██████████| 20/20 [00:05<00:00,  3.86it/s]"
     ]
    },
    {
     "name": "stdout",
     "output_type": "stream",
     "text": [
      "888.9052360831492\n",
      "99\n"
     ]
    },
    {
     "name": "stderr",
     "output_type": "stream",
     "text": [
      "\n"
     ]
    }
   ],
   "source": [
    "es = Metropolis(100, 20,A_T)"
   ],
   "metadata": {
    "collapsed": false,
    "pycharm": {
     "name": "#%%\n"
    }
   }
  },
  {
   "cell_type": "code",
   "execution_count": 21,
   "outputs": [],
   "source": [
    "def link_remover(A_T, ratio): #adjacency matrix :A_T #the ratio of links to be removed:ratio\n",
    "    one_index = np.where(A_T==1)\n",
    "    one_list = [[one_index[0][i], one_index[1][i]] for i in range(len(one_index[0]))]\n",
    "    r = random.sample(one_list, int(ratio * np.sum(A_T)/2)) #randomly selects a subset of the pairs\n",
    "    return(r)\n",
    "\n",
    "#sorting\n",
    "def Sort(sub_li):\n",
    "    sub_li.sort(key = lambda x: x[1])\n",
    "    return sub_li.reverse()\n",
    "\n",
    "#extract the first element\n",
    "def Extract(lst):\n",
    "    return list(list(zip(*lst))[0])\n",
    "\n",
    "def acc(k):\n",
    "    zeros=k.count(0)\n",
    "    ones=k.count(1)\n",
    "    ef=0\n",
    "    for i in range(len(k)):\n",
    "        if k[i]==1:\n",
    "            ef+=k[i:].count(0)/zeros\n",
    "    return ef/ones"
   ],
   "metadata": {
    "collapsed": false,
    "pycharm": {
     "name": "#%%\n"
    }
   }
  },
  {
   "cell_type": "markdown",
   "source": [
    "We are computing the reliability of links that were originally set to zero in the adjacency matrix A_T. The code we've provided iterates through the zero entries in the adjacency matrix and calculates the reliability using the R function."
   ],
   "metadata": {
    "collapsed": false,
    "pycharm": {
     "name": "#%% md\n"
    }
   }
  },
  {
   "cell_type": "code",
   "execution_count": 22,
   "outputs": [
    {
     "name": "stderr",
     "output_type": "stream",
     "text": [
      "100%|██████████| 1221/1221 [00:26<00:00, 46.28it/s]\n"
     ]
    }
   ],
   "source": [
    "zero_real = []\n",
    "zero_index = np.where(A_T==0)\n",
    "\n",
    "for i in tqdm(range(len(zero_index[0]))):\n",
    "    #computed reliability for each link is appended to the zero_real list\n",
    "    zero_real.append(R(zero_index[0][i], zero_index[1][i], A_T, es))"
   ],
   "metadata": {
    "collapsed": false,
    "pycharm": {
     "name": "#%%\n"
    }
   }
  },
  {
   "cell_type": "code",
   "execution_count": 23,
   "outputs": [
    {
     "name": "stdout",
     "output_type": "stream",
     "text": [
      "the mean value 0.37\n",
      "the mean value 0.35\n",
      "the mean value 0.34\n",
      "the mean value 0.33\n",
      "the mean value 0.32\n",
      "the mean value 0.32\n",
      "the mean value 0.3\n",
      "the mean value 0.29\n",
      "the mean value 0.29\n",
      "the mean value 0.3\n"
     ]
    }
   ],
   "source": [
    "rat=np.linspace(0.1,1,10) #removal ratio\n",
    "accs=[]\n",
    "for r in rat:\n",
    "    A_T_ORG=A_T\n",
    "    selected_links = link_remover(A_T, r) #select links to remove from the adjacency matrix (based on ratio)\n",
    "    #Set the selected links to 0 in the adjacency matrix to simulate link removal.\n",
    "    #print(selected_links)\n",
    "    for link in selected_links: A_T[link[0], link[1]] = 0 #index 0 and index 1\n",
    "    #Calculate the reliability of the removed links using the R function and store these values in the zero_fake list.\n",
    "    zero_fake=[]\n",
    "    for i in selected_links:\n",
    "        zero_fake.append(R(i[0], i[1], A_T, es))\n",
    "    #Print the mean value of the reliabilities of the removed links\n",
    "    print('the mean value', round(np.mean(zero_fake),2))\n",
    "    #aggregate all the reliabilities (both real and removed)\n",
    "    all_real = []\n",
    "    for i in zero_fake: all_real.append([1, i])\n",
    "    for i in zero_real: all_real.append([0, i])\n",
    "    #print(all_real)\n",
    "    Sort(all_real)\n",
    "    #print(all_real)\n",
    "    #print('..............................')\n",
    "    ext=Extract(all_real)\n",
    "    #print(ext)\n",
    "    #calculate the accuracy of the network based on the sorted reliabilities\n",
    "    accs.append(acc(ext))"
   ],
   "metadata": {
    "collapsed": false,
    "pycharm": {
     "name": "#%%\n"
    }
   }
  },
  {
   "cell_type": "markdown",
   "source": [
    "#### CONCLUSION:\n",
    "This information helps us to understand how network reliability changes as we remove links.\n",
    "Based on these results, it appears that as we remove more links, the mean reliability of the removed links decreases. This is an expected outcome, as removing links reduces the network's overall connectivity and makes it less reliable in terms of link connectivity. The decreasing trend in mean reliability suggests that removing more links has a more significant impact on network reliability."
   ],
   "metadata": {
    "collapsed": false,
    "pycharm": {
     "name": "#%% md\n"
    }
   }
  },
  {
   "cell_type": "code",
   "execution_count": 24,
   "outputs": [
    {
     "data": {
      "text/plain": "Text(0.5, 1.0, 'Missing intractions')"
     },
     "execution_count": 24,
     "metadata": {},
     "output_type": "execute_result"
    },
    {
     "data": {
      "text/plain": "<Figure size 600x300 with 1 Axes>",
      "image/png": "[encoded data removed]"
     },
     "metadata": {},
     "output_type": "display_data"
    }
   ],
   "source": [
    "plt.figure(figsize=(6,3))\n",
    "plt.plot(rat,accs,'-o',color='black')\n",
    "plt.axhline(y = 0.5, color = 'k', linestyle = '--')\n",
    "plt.ylabel('Accuracy')\n",
    "plt.xlabel('Fraction of links removed')\n",
    "plt.title('Missing intractions')\n"
   ],
   "metadata": {
    "collapsed": false,
    "pycharm": {
     "name": "#%%\n"
    }
   }
  },
  {
   "cell_type": "markdown",
   "source": [
    "### Spurious Intercations (Adding Links)"
   ],
   "metadata": {
    "collapsed": false,
    "pycharm": {
     "name": "#%% md\n"
    }
   }
  },
  {
   "cell_type": "code",
   "execution_count": 25,
   "outputs": [],
   "source": [
    "#add links to the adjacency matrix A_T based on a specified ratio\n",
    "def link_adder(A_T, ratio):\n",
    "    zero_index = np.where(A_T==0)\n",
    "    zero_list = [[zero_index[0][i], zero_index[1][i]] for i in range(len(zero_index[0]))]\n",
    "    r = random.sample(zero_list, int(ratio * np.sum(A_T)/2))\n",
    "    return(r)\n",
    "\n",
    "#sorting\n",
    "def Sort(sub_li):\n",
    "    sub_li.sort(key = lambda x: x[1])\n",
    "    return sub_li.reverse()\n",
    "\n",
    "#extract the first element\n",
    "#This function is intended to extract the first elements from a list of pairs\n",
    "def Extract(lst):\n",
    "    return list(list(zip(*lst))[0])\n"
   ],
   "metadata": {
    "collapsed": false,
    "pycharm": {
     "name": "#%%\n"
    }
   }
  },
  {
   "cell_type": "code",
   "execution_count": 26,
   "outputs": [],
   "source": [
    "def acc(k):\n",
    "    zeros = k.count(0)\n",
    "    ones = k.count(1)\n",
    "\n",
    "    if zeros == 0:\n",
    "        return 0  # Handle the case when there are no zeros (or return another appropriate value)\n",
    "\n",
    "    ef = 0\n",
    "    for i in range(len(k)):\n",
    "        if k[i] == 1:\n",
    "            ef += k[i:].count(0) / zeros\n",
    "\n",
    "    return ef / ones"
   ],
   "metadata": {
    "collapsed": false,
    "pycharm": {
     "name": "#%%\n"
    }
   }
  },
  {
   "cell_type": "code",
   "execution_count": 27,
   "outputs": [
    {
     "name": "stderr",
     "output_type": "stream",
     "text": [
      "100%|██████████| 43/43 [00:00<00:00, 45.76it/s]\n"
     ]
    }
   ],
   "source": [
    "one_real = []\n",
    "one_index = np.where(A_T==1)#find the indices of one entries in the adjacency matrix\n",
    "\n",
    "for i in tqdm(range(len(one_index[0]))):\n",
    "    #computed reliability for each link is appended to the one_real list\n",
    "    one_real.append(R(one_index[0][i], one_index[1][i], A_T, es))"
   ],
   "metadata": {
    "collapsed": false,
    "pycharm": {
     "name": "#%%\n"
    }
   }
  },
  {
   "cell_type": "code",
   "execution_count": 28,
   "outputs": [
    {
     "name": "stdout",
     "output_type": "stream",
     "text": [
      "the mean value 0.65\n",
      "the mean value 0.66\n",
      "the mean value 0.64\n",
      "the mean value 0.65\n",
      "the mean value 0.66\n",
      "the mean value 0.67\n",
      "the mean value 0.67\n",
      "the mean value 0.67\n",
      "the mean value 0.68\n",
      "the mean value 0.68\n"
     ]
    }
   ],
   "source": [
    "rat=np.linspace(0.1,1,10)\n",
    "accs=[]\n",
    "for r in rat:\n",
    "    A_T = np.load('AT.npy')\n",
    "    selected_links = link_adder(A_T, r)\n",
    "    for link in selected_links: A_T[link[0], link[1]] = 1\n",
    "    np.save('A0',A_T)\n",
    "    one_fake=[]\n",
    "    for i in selected_links:\n",
    "        one_fake.append(R(i[0], i[1], A_T, es))\n",
    "    print('the mean value', round(np.mean(one_fake),2))\n",
    "    all_real = []\n",
    "    for i in one_fake: all_real.append([0, i])\n",
    "    for i in one_real: all_real.append([1, i])\n",
    "    Sort(all_real)\n",
    "    ext=Extract(all_real)\n",
    "    accs.append(acc(ext))"
   ],
   "metadata": {
    "collapsed": false,
    "pycharm": {
     "name": "#%%\n"
    }
   }
  },
  {
   "cell_type": "markdown",
   "source": [
    "##### conclusion:\n",
    "the mean values of the reliabilities for added links as we systematically increased the link addition ratio. This information helps us to understand how network reliability changes as we add more links.it appears that as we add more links to the network, the mean reliability of the added links increases. This suggests that adding more links enhances network reliability. The increasing trend in mean reliability indicates that adding more links has a positive impact on the network's reliability."
   ],
   "metadata": {
    "collapsed": false,
    "pycharm": {
     "name": "#%% md\n"
    }
   }
  },
  {
   "cell_type": "code",
   "execution_count": 29,
   "outputs": [
    {
     "data": {
      "text/plain": "Text(0.5, 1.0, 'ُSpurious intractions')"
     },
     "execution_count": 29,
     "metadata": {},
     "output_type": "execute_result"
    },
    {
     "data": {
      "text/plain": "<Figure size 600x300 with 1 Axes>",
      "image/png": "[encoded data removed]"
     },
     "metadata": {},
     "output_type": "display_data"
    }
   ],
   "source": [
    "plt.figure(figsize=(6,3))\n",
    "plt.plot(rat,accs,'-o',color='black')\n",
    "plt.axhline(y = 0.5, color = 'k', linestyle = '--')\n",
    "plt.ylabel('Accuracy')\n",
    "plt.xlabel('Fraction of links Added')\n",
    "plt.title('ُSpurious intractions')"
   ],
   "metadata": {
    "collapsed": false,
    "pycharm": {
     "name": "#%%\n"
    }
   }
  },
  {
   "cell_type": "code",
   "execution_count": 30,
   "outputs": [],
   "source": [
    "A_O = np.load('A0.npy')\n",
    "A_T = np.load('AT.npy')"
   ],
   "metadata": {
    "collapsed": false,
    "pycharm": {
     "name": "#%%\n"
    }
   }
  },
  {
   "cell_type": "code",
   "execution_count": 31,
   "outputs": [
    {
     "name": "stdout",
     "output_type": "stream",
     "text": [
      "number of zero in true network 1221\n",
      "number of one in true network 1279\n"
     ]
    }
   ],
   "source": [
    "num_zeros_A_T = (A_T == 0).sum()\n",
    "print('number of zero in true network',num_zeros_A_T)\n",
    "num_one_A_T = (A_T == 1).sum()\n",
    "print('number of one in true network',num_one_A_T)"
   ],
   "metadata": {
    "collapsed": false,
    "pycharm": {
     "name": "#%%\n"
    }
   }
  },
  {
   "cell_type": "code",
   "execution_count": 32,
   "outputs": [
    {
     "name": "stdout",
     "output_type": "stream",
     "text": [
      "number of zero in A_O network 582\n",
      "number of one in A_O network 1918\n"
     ]
    }
   ],
   "source": [
    "num_zeros_A_O = (A_O == 0).sum()\n",
    "print('number of zero in A_O network',num_zeros_A_O)\n",
    "num_one_A_O = (A_O == 1).sum()\n",
    "print('number of one in A_O network',num_one_A_O)"
   ],
   "metadata": {
    "collapsed": false,
    "pycharm": {
     "name": "#%%\n"
    }
   }
  },
  {
   "cell_type": "code",
   "execution_count": 33,
   "outputs": [
    {
     "name": "stderr",
     "output_type": "stream",
     "text": [
      " 10%|█         | 2/20 [00:00<00:03,  4.98it/s]"
     ]
    },
    {
     "name": "stdout",
     "output_type": "stream",
     "text": [
      "796.6975073277406\n",
      "99\n",
      "793.6787670936938\n",
      "99\n"
     ]
    },
    {
     "name": "stderr",
     "output_type": "stream",
     "text": [
      " 20%|██        | 4/20 [00:00<00:02,  6.10it/s]"
     ]
    },
    {
     "name": "stdout",
     "output_type": "stream",
     "text": [
      "798.8778284379382\n",
      "99\n",
      "772.0059979205247\n",
      "99\n"
     ]
    },
    {
     "name": "stderr",
     "output_type": "stream",
     "text": [
      " 30%|███       | 6/20 [00:01<00:02,  6.15it/s]"
     ]
    },
    {
     "name": "stdout",
     "output_type": "stream",
     "text": [
      "798.2822875232551\n",
      "99\n",
      "803.693500147378\n",
      "99\n"
     ]
    },
    {
     "name": "stderr",
     "output_type": "stream",
     "text": [
      " 40%|████      | 8/20 [00:01<00:01,  6.32it/s]"
     ]
    },
    {
     "name": "stdout",
     "output_type": "stream",
     "text": [
      "783.9559613512616\n",
      "99\n",
      "803.7579105389378\n",
      "99\n"
     ]
    },
    {
     "name": "stderr",
     "output_type": "stream",
     "text": [
      " 50%|█████     | 10/20 [00:01<00:01,  6.24it/s]"
     ]
    },
    {
     "name": "stdout",
     "output_type": "stream",
     "text": [
      "772.734465144095\n",
      "99\n",
      "778.5796079400357\n",
      "99\n"
     ]
    },
    {
     "name": "stderr",
     "output_type": "stream",
     "text": [
      " 60%|██████    | 12/20 [00:01<00:01,  6.23it/s]"
     ]
    },
    {
     "name": "stdout",
     "output_type": "stream",
     "text": [
      "806.5082401638911\n",
      "99\n",
      "811.8912242971853\n",
      "99\n"
     ]
    },
    {
     "name": "stderr",
     "output_type": "stream",
     "text": [
      " 70%|███████   | 14/20 [00:02<00:00,  6.44it/s]"
     ]
    },
    {
     "name": "stdout",
     "output_type": "stream",
     "text": [
      "785.7519059464883\n",
      "99\n",
      "781.0188277427488\n",
      "99\n"
     ]
    },
    {
     "name": "stderr",
     "output_type": "stream",
     "text": [
      " 80%|████████  | 16/20 [00:02<00:00,  6.38it/s]"
     ]
    },
    {
     "name": "stdout",
     "output_type": "stream",
     "text": [
      "793.9724799797266\n",
      "99\n",
      "787.307969973109\n",
      "99\n"
     ]
    },
    {
     "name": "stderr",
     "output_type": "stream",
     "text": [
      " 90%|█████████ | 18/20 [00:02<00:00,  6.40it/s]"
     ]
    },
    {
     "name": "stdout",
     "output_type": "stream",
     "text": [
      "778.4135533849894\n",
      "99\n",
      "798.6079440050006\n",
      "99\n"
     ]
    },
    {
     "name": "stderr",
     "output_type": "stream",
     "text": [
      "100%|██████████| 20/20 [00:03<00:00,  6.14it/s]"
     ]
    },
    {
     "name": "stdout",
     "output_type": "stream",
     "text": [
      "793.4866794301726\n",
      "99\n",
      "787.2575360998055\n",
      "99\n"
     ]
    },
    {
     "name": "stderr",
     "output_type": "stream",
     "text": [
      "\n"
     ]
    }
   ],
   "source": [
    "# create empty matrix of shape A_O\n",
    "shape_o=np.shape(A_O)\n",
    "R_matix=np.zeros(shape_o)\n",
    "es = Metropolis(100, 20,A_O)"
   ],
   "metadata": {
    "collapsed": false,
    "pycharm": {
     "name": "#%%\n"
    }
   }
  },
  {
   "cell_type": "code",
   "execution_count": 34,
   "outputs": [],
   "source": [
    "for i in range(shape_o[0]):\n",
    "    for j in range(shape_o[1]):\n",
    "        R_matix[i][j]= R(i,j, A_O, es)"
   ],
   "metadata": {
    "collapsed": false,
    "pycharm": {
     "name": "#%%\n"
    }
   }
  },
  {
   "cell_type": "code",
   "execution_count": 35,
   "outputs": [
    {
     "name": "stdout",
     "output_type": "stream",
     "text": [
      "0.90909\n",
      "0.16667\n"
     ]
    },
    {
     "data": {
      "text/plain": "array([[0.90909, 0.81818, 0.875  , ..., 0.875  , 0.625  , 0.875  ],\n       [0.63636, 0.63636, 0.875  , ..., 0.75   , 0.75   , 0.75   ],\n       [0.5    , 0.75   , 0.83333, ..., 0.83333, 0.83333, 0.66667],\n       ...,\n       [0.625  , 0.625  , 0.5    , ..., 0.33333, 0.66667, 0.33333],\n       [0.625  , 0.875  , 0.66667, ..., 0.66667, 0.66667, 0.33333],\n       [0.625  , 0.625  , 0.83333, ..., 0.83333, 0.66667, 0.83333]])"
     },
     "execution_count": 35,
     "metadata": {},
     "output_type": "execute_result"
    }
   ],
   "source": [
    "print(np.max(R_matix))\n",
    "print(np.min(R_matix))\n",
    "R_matix"
   ],
   "metadata": {
    "collapsed": false,
    "pycharm": {
     "name": "#%%\n"
    }
   }
  },
  {
   "cell_type": "code",
   "execution_count": 36,
   "outputs": [],
   "source": [
    "A_O[np.where(R_matix > 0.5)] = 1\n",
    "A_O[np.where(R_matix < 0.5)] = 0"
   ],
   "metadata": {
    "collapsed": false,
    "pycharm": {
     "name": "#%%\n"
    }
   }
  },
  {
   "cell_type": "code",
   "execution_count": 51,
   "outputs": [
    {
     "data": {
      "text/plain": "Text(0.5, 1.0, 'Reliability matrix for A_O')"
     },
     "execution_count": 51,
     "metadata": {},
     "output_type": "execute_result"
    },
    {
     "data": {
      "text/plain": "<Figure size 500x500 with 1 Axes>",
      "image/png": "[encoded data removed]"
     },
     "metadata": {},
     "output_type": "display_data"
    }
   ],
   "source": [
    "from matplotlib.colors import ListedColormap\n",
    "fig, (ax1) = plt.subplots(ncols=1, figsize=(5, 5))\n",
    "cmap = ListedColormap(['r', 'b'])\n",
    "ax1.matshow(A_O, interpolation=None, aspect='auto',cmap=cmap)\n",
    "ax1.set_title('Reliability matrix for A_O')"
   ],
   "metadata": {
    "collapsed": false,
    "pycharm": {
     "name": "#%%\n"
    }
   }
  },
  {
   "cell_type": "code",
   "execution_count": 38,
   "outputs": [
    {
     "name": "stderr",
     "output_type": "stream",
     "text": [
      " 10%|█         | 2/20 [00:00<00:03,  5.10it/s]"
     ]
    },
    {
     "name": "stdout",
     "output_type": "stream",
     "text": [
      "640.8871579219305\n",
      "99\n",
      "629.654278915325\n",
      "99\n"
     ]
    },
    {
     "name": "stderr",
     "output_type": "stream",
     "text": [
      " 20%|██        | 4/20 [00:00<00:02,  6.21it/s]"
     ]
    },
    {
     "name": "stdout",
     "output_type": "stream",
     "text": [
      "616.9192483088154\n",
      "99\n",
      "604.1220285607958\n",
      "99\n"
     ]
    },
    {
     "name": "stderr",
     "output_type": "stream",
     "text": [
      " 30%|███       | 6/20 [00:00<00:02,  6.41it/s]"
     ]
    },
    {
     "name": "stdout",
     "output_type": "stream",
     "text": [
      "619.7316192224224\n",
      "99\n",
      "660.6702897379846\n",
      "99\n"
     ]
    },
    {
     "name": "stderr",
     "output_type": "stream",
     "text": [
      " 40%|████      | 8/20 [00:01<00:01,  6.55it/s]"
     ]
    },
    {
     "name": "stdout",
     "output_type": "stream",
     "text": [
      "585.0648408034632\n",
      "99\n",
      "605.0254552841678\n",
      "99\n"
     ]
    },
    {
     "name": "stderr",
     "output_type": "stream",
     "text": [
      " 50%|█████     | 10/20 [00:01<00:01,  6.46it/s]"
     ]
    },
    {
     "name": "stdout",
     "output_type": "stream",
     "text": [
      "632.8630892193898\n",
      "99\n",
      "656.1067352370725\n",
      "99\n"
     ]
    },
    {
     "name": "stderr",
     "output_type": "stream",
     "text": [
      " 60%|██████    | 12/20 [00:01<00:01,  6.68it/s]"
     ]
    },
    {
     "name": "stdout",
     "output_type": "stream",
     "text": [
      "646.7717484965095\n",
      "99\n",
      "626.9398833117806\n",
      "99\n"
     ]
    },
    {
     "name": "stderr",
     "output_type": "stream",
     "text": [
      " 70%|███████   | 14/20 [00:02<00:00,  6.90it/s]"
     ]
    },
    {
     "name": "stdout",
     "output_type": "stream",
     "text": [
      "612.8088131336025\n",
      "99\n",
      "616.6046445074883\n",
      "99\n"
     ]
    },
    {
     "name": "stderr",
     "output_type": "stream",
     "text": [
      " 80%|████████  | 16/20 [00:02<00:00,  6.88it/s]"
     ]
    },
    {
     "name": "stdout",
     "output_type": "stream",
     "text": [
      "619.7677998505475\n",
      "99\n",
      "612.4924877442144\n",
      "99\n"
     ]
    },
    {
     "name": "stderr",
     "output_type": "stream",
     "text": [
      " 90%|█████████ | 18/20 [00:02<00:00,  6.85it/s]"
     ]
    },
    {
     "name": "stdout",
     "output_type": "stream",
     "text": [
      "630.9515257988563\n",
      "99\n",
      "597.2542375071907\n",
      "99\n"
     ]
    },
    {
     "name": "stderr",
     "output_type": "stream",
     "text": [
      "100%|██████████| 20/20 [00:03<00:00,  6.45it/s]"
     ]
    },
    {
     "name": "stdout",
     "output_type": "stream",
     "text": [
      "637.7044935997714\n",
      "99\n",
      "637.9667642622759\n",
      "99\n"
     ]
    },
    {
     "name": "stderr",
     "output_type": "stream",
     "text": [
      "\n"
     ]
    }
   ],
   "source": [
    "shape_T=np.shape(A_T)\n",
    "R_mat_A_T=np.zeros(shape_T)\n",
    "es = Metropolis(100, 20,A_O)"
   ],
   "metadata": {
    "collapsed": false,
    "pycharm": {
     "name": "#%%\n"
    }
   }
  },
  {
   "cell_type": "code",
   "execution_count": 39,
   "outputs": [],
   "source": [
    "for i in range(shape_T[0]):\n",
    "    for j in range(shape_T[1]):\n",
    "        R_mat_A_T[i][j]= R(i,j, A_T, es)"
   ],
   "metadata": {
    "collapsed": false,
    "pycharm": {
     "name": "#%%\n"
    }
   }
  },
  {
   "cell_type": "code",
   "execution_count": 40,
   "outputs": [
    {
     "name": "stdout",
     "output_type": "stream",
     "text": [
      "0.83333\n",
      "0.14286\n"
     ]
    },
    {
     "data": {
      "text/plain": "array([[0.61111, 0.66667, 0.7    , ..., 0.66667, 0.27778, 0.5    ],\n       [0.33333, 0.44444, 0.7    , ..., 0.5    , 0.66667, 0.83333],\n       [0.6    , 0.5    , 0.16667, ..., 0.75   , 0.3    , 0.75   ],\n       ...,\n       [0.33333, 0.83333, 0.5    , ..., 0.33333, 0.5    , 0.66667],\n       [0.44444, 0.55556, 0.7    , ..., 0.5    , 0.44444, 0.33333],\n       [0.33333, 0.66667, 0.75   , ..., 0.33333, 0.16667, 0.66667]])"
     },
     "execution_count": 40,
     "metadata": {},
     "output_type": "execute_result"
    }
   ],
   "source": [
    "print(np.max(R_mat_A_T))\n",
    "print(np.min(R_mat_A_T))\n",
    "R_mat_A_T"
   ],
   "metadata": {
    "collapsed": false,
    "pycharm": {
     "name": "#%%\n"
    }
   }
  },
  {
   "cell_type": "code",
   "execution_count": 41,
   "outputs": [],
   "source": [
    "A_T[np.where(R_mat_A_T > 0.5)] = 1\n",
    "A_T[np.where(R_mat_A_T < 0.5)] = 0"
   ],
   "metadata": {
    "collapsed": false,
    "pycharm": {
     "name": "#%%\n"
    }
   }
  },
  {
   "cell_type": "code",
   "execution_count": 50,
   "outputs": [
    {
     "data": {
      "text/plain": "Text(0.5, 1.0, 'Reliability matrix for A_T')"
     },
     "execution_count": 50,
     "metadata": {},
     "output_type": "execute_result"
    },
    {
     "data": {
      "text/plain": "<Figure size 500x500 with 1 Axes>",
      "image/png": "[encoded data removed]"
     },
     "metadata": {},
     "output_type": "display_data"
    }
   ],
   "source": [
    "fig, (ax1) = plt.subplots(ncols=1, figsize=(5, 5))\n",
    "cmap = ListedColormap(['r', 'b'])\n",
    "ax1.matshow(A_T, interpolation=None, aspect='auto',cmap=cmap)\n",
    "ax1.set_title('Reliability matrix for A_T')\n"
   ],
   "metadata": {
    "collapsed": false,
    "pycharm": {
     "name": "#%%\n"
    }
   }
  },
  {
   "cell_type": "code",
   "execution_count": 42,
   "outputs": [],
   "source": [],
   "metadata": {
    "collapsed": false,
    "pycharm": {
     "name": "#%%\n"
    }
   }
  }
 ],
 "metadata": {
  "kernelspec": {
   "display_name": "Python 3",
   "language": "python",
   "name": "python3"
  },
  "language_info": {
   "codemirror_mode": {
    "name": "ipython",
    "version": 2
   },
   "file_extension": ".py",
   "mimetype": "text/x-python",
   "name": "python",
   "nbconvert_exporter": "python",
   "pygments_lexer": "ipython2",
   "version": "2.7.6"
  }
 },
 "nbformat": 4,
 "nbformat_minor": 0
}